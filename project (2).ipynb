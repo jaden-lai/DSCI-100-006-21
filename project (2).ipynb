{
 "cells": [
  {
   "cell_type": "markdown",
   "id": "b336fa50-5302-4437-a25a-066940531ede",
   "metadata": {},
   "source": [
    "# Data Science Group Project Report 006-021\n",
    "## Heart Disease Hungarian Data:\n",
    "##### Members: \n",
    "- Jaden Lai (79465795)\n",
    "- Percy Pham (70210562)\n",
    "- Sydney Trim (86059649)\n",
    "\n",
    "#### Introduction:\n",
    "Heart disease is a leading cause of death worldwide associated with many variables. This project aims to identify patients most likely to experience heart problems by analyzing age, sex, resting blood pressure, resting electrocardiographic results, and fasting blood sugar. To answer this question we will be analyzing the Heart Disease Data Set from the Hungarian Institute of Cardiology. This dataset provides fourteen attributes. However, we have selected eight of them to find an answer to our question.\n",
    "\n",
    "#### Question: \n",
    "What patients are most likely to experience heart problems (chest pain, heart disease) using predictors of age, sex, resting blood pressure, resting electrocardiographic results, and fasting blood sugar?"
   ]
  },
  {
   "cell_type": "code",
   "execution_count": 8,
   "id": "279b6d09-e456-4782-acd4-172ec93c9757",
   "metadata": {},
   "outputs": [],
   "source": [
    "xpalibrary(tidyverse)\n",
    "library(repr)\n",
    "library(tidymodels)\n",
    "options(repr.matrix.max.rows = 6)"
   ]
  },
  {
   "cell_type": "markdown",
   "id": "304e04df-2202-4c13-b1f3-57a83da68ca0",
   "metadata": {},
   "source": [
    "### Methods & Results\n",
    "\n",
    "##### Downloading the data, cleaning the table"
   ]
  },
  {
   "cell_type": "code",
   "execution_count": 65,
   "id": "9485b818-23a5-4e78-a08a-10b5c98530df",
   "metadata": {},
   "outputs": [
    {
     "name": "stderr",
     "output_type": "stream",
     "text": [
      "\u001b[1mRows: \u001b[22m\u001b[34m294\u001b[39m \u001b[1mColumns: \u001b[22m\u001b[34m14\u001b[39m\n",
      "\u001b[36m──\u001b[39m \u001b[1mColumn specification\u001b[22m \u001b[36m────────────────────────────────────────────────────────\u001b[39m\n",
      "\u001b[1mDelimiter:\u001b[22m \",\"\n",
      "\u001b[31mchr\u001b[39m (9): X4, X5, X6, X7, X8, X9, X11, X12, X13\n",
      "\u001b[32mdbl\u001b[39m (5): X1, X2, X3, X10, X14\n",
      "\n",
      "\u001b[36mℹ\u001b[39m Use `spec()` to retrieve the full column specification for this data.\n",
      "\u001b[36mℹ\u001b[39m Specify the column types or set `show_col_types = FALSE` to quiet this message.\n",
      "Warning message in mask$eval_all_mutate(quo):\n",
      "“NAs introduced by coercion”\n",
      "Warning message in mask$eval_all_mutate(quo):\n",
      "“NAs introduced by coercion”\n",
      "Warning message in mask$eval_all_mutate(quo):\n",
      "“NAs introduced by coercion”\n"
     ]
    },
    {
     "data": {
      "text/html": [
       "<table class=\"dataframe\">\n",
       "<caption>A tibble: 284 × 6</caption>\n",
       "<thead>\n",
       "\t<tr><th scope=col>age</th><th scope=col>sex</th><th scope=col>resting_blood_pressure</th><th scope=col>fasting_blood_sugar</th><th scope=col>resting_electrocardiographic_results</th><th scope=col>heart_disease_cases</th></tr>\n",
       "\t<tr><th scope=col>&lt;dbl&gt;</th><th scope=col>&lt;dbl&gt;</th><th scope=col>&lt;dbl&gt;</th><th scope=col>&lt;dbl&gt;</th><th scope=col>&lt;dbl&gt;</th><th scope=col>&lt;fct&gt;</th></tr>\n",
       "</thead>\n",
       "<tbody>\n",
       "\t<tr><td>28</td><td>1</td><td>130</td><td>0</td><td>2</td><td>0</td></tr>\n",
       "\t<tr><td>29</td><td>1</td><td>120</td><td>0</td><td>0</td><td>0</td></tr>\n",
       "\t<tr><td>29</td><td>1</td><td>140</td><td>0</td><td>0</td><td>0</td></tr>\n",
       "\t<tr><td>⋮</td><td>⋮</td><td>⋮</td><td>⋮</td><td>⋮</td><td>⋮</td></tr>\n",
       "\t<tr><td>56</td><td>1</td><td>155</td><td>1</td><td>0</td><td>1</td></tr>\n",
       "\t<tr><td>58</td><td>0</td><td>180</td><td>0</td><td>0</td><td>1</td></tr>\n",
       "\t<tr><td>65</td><td>1</td><td>130</td><td>0</td><td>1</td><td>1</td></tr>\n",
       "</tbody>\n",
       "</table>\n"
      ],
      "text/latex": [
       "A tibble: 284 × 6\n",
       "\\begin{tabular}{llllll}\n",
       " age & sex & resting\\_blood\\_pressure & fasting\\_blood\\_sugar & resting\\_electrocardiographic\\_results & heart\\_disease\\_cases\\\\\n",
       " <dbl> & <dbl> & <dbl> & <dbl> & <dbl> & <fct>\\\\\n",
       "\\hline\n",
       "\t 28 & 1 & 130 & 0 & 2 & 0\\\\\n",
       "\t 29 & 1 & 120 & 0 & 0 & 0\\\\\n",
       "\t 29 & 1 & 140 & 0 & 0 & 0\\\\\n",
       "\t ⋮ & ⋮ & ⋮ & ⋮ & ⋮ & ⋮\\\\\n",
       "\t 56 & 1 & 155 & 1 & 0 & 1\\\\\n",
       "\t 58 & 0 & 180 & 0 & 0 & 1\\\\\n",
       "\t 65 & 1 & 130 & 0 & 1 & 1\\\\\n",
       "\\end{tabular}\n"
      ],
      "text/markdown": [
       "\n",
       "A tibble: 284 × 6\n",
       "\n",
       "| age &lt;dbl&gt; | sex &lt;dbl&gt; | resting_blood_pressure &lt;dbl&gt; | fasting_blood_sugar &lt;dbl&gt; | resting_electrocardiographic_results &lt;dbl&gt; | heart_disease_cases &lt;fct&gt; |\n",
       "|---|---|---|---|---|---|\n",
       "| 28 | 1 | 130 | 0 | 2 | 0 |\n",
       "| 29 | 1 | 120 | 0 | 0 | 0 |\n",
       "| 29 | 1 | 140 | 0 | 0 | 0 |\n",
       "| ⋮ | ⋮ | ⋮ | ⋮ | ⋮ | ⋮ |\n",
       "| 56 | 1 | 155 | 1 | 0 | 1 |\n",
       "| 58 | 0 | 180 | 0 | 0 | 1 |\n",
       "| 65 | 1 | 130 | 0 | 1 | 1 |\n",
       "\n"
      ],
      "text/plain": [
       "    age sex resting_blood_pressure fasting_blood_sugar\n",
       "1   28  1   130                    0                  \n",
       "2   29  1   120                    0                  \n",
       "3   29  1   140                    0                  \n",
       "⋮   ⋮   ⋮   ⋮                      ⋮                  \n",
       "282 56  1   155                    1                  \n",
       "283 58  0   180                    0                  \n",
       "284 65  1   130                    0                  \n",
       "    resting_electrocardiographic_results heart_disease_cases\n",
       "1   2                                    0                  \n",
       "2   0                                    0                  \n",
       "3   0                                    0                  \n",
       "⋮   ⋮                                    ⋮                  \n",
       "282 0                                    1                  \n",
       "283 0                                    1                  \n",
       "284 1                                    1                  "
      ]
     },
     "metadata": {},
     "output_type": "display_data"
    },
    {
     "data": {
      "text/html": [
       "<table class=\"dataframe\">\n",
       "<caption>A grouped_df: 284 × 6</caption>\n",
       "<thead>\n",
       "\t<tr><th scope=col>age</th><th scope=col>sex</th><th scope=col>resting_blood_pressure</th><th scope=col>fasting_blood_sugar</th><th scope=col>resting_electrocardiographic_results</th><th scope=col>heart_disease_cases</th></tr>\n",
       "\t<tr><th scope=col>&lt;dbl&gt;</th><th scope=col>&lt;dbl&gt;</th><th scope=col>&lt;dbl&gt;</th><th scope=col>&lt;dbl&gt;</th><th scope=col>&lt;dbl&gt;</th><th scope=col>&lt;fct&gt;</th></tr>\n",
       "</thead>\n",
       "<tbody>\n",
       "\t<tr><td>28</td><td>1</td><td>130</td><td>0</td><td>2</td><td>0</td></tr>\n",
       "\t<tr><td>29</td><td>1</td><td>120</td><td>0</td><td>0</td><td>0</td></tr>\n",
       "\t<tr><td>29</td><td>1</td><td>140</td><td>0</td><td>0</td><td>0</td></tr>\n",
       "\t<tr><td>⋮</td><td>⋮</td><td>⋮</td><td>⋮</td><td>⋮</td><td>⋮</td></tr>\n",
       "\t<tr><td>56</td><td>1</td><td>155</td><td>1</td><td>0</td><td>1</td></tr>\n",
       "\t<tr><td>58</td><td>0</td><td>180</td><td>0</td><td>0</td><td>1</td></tr>\n",
       "\t<tr><td>65</td><td>1</td><td>130</td><td>0</td><td>1</td><td>1</td></tr>\n",
       "</tbody>\n",
       "</table>\n"
      ],
      "text/latex": [
       "A grouped\\_df: 284 × 6\n",
       "\\begin{tabular}{llllll}\n",
       " age & sex & resting\\_blood\\_pressure & fasting\\_blood\\_sugar & resting\\_electrocardiographic\\_results & heart\\_disease\\_cases\\\\\n",
       " <dbl> & <dbl> & <dbl> & <dbl> & <dbl> & <fct>\\\\\n",
       "\\hline\n",
       "\t 28 & 1 & 130 & 0 & 2 & 0\\\\\n",
       "\t 29 & 1 & 120 & 0 & 0 & 0\\\\\n",
       "\t 29 & 1 & 140 & 0 & 0 & 0\\\\\n",
       "\t ⋮ & ⋮ & ⋮ & ⋮ & ⋮ & ⋮\\\\\n",
       "\t 56 & 1 & 155 & 1 & 0 & 1\\\\\n",
       "\t 58 & 0 & 180 & 0 & 0 & 1\\\\\n",
       "\t 65 & 1 & 130 & 0 & 1 & 1\\\\\n",
       "\\end{tabular}\n"
      ],
      "text/markdown": [
       "\n",
       "A grouped_df: 284 × 6\n",
       "\n",
       "| age &lt;dbl&gt; | sex &lt;dbl&gt; | resting_blood_pressure &lt;dbl&gt; | fasting_blood_sugar &lt;dbl&gt; | resting_electrocardiographic_results &lt;dbl&gt; | heart_disease_cases &lt;fct&gt; |\n",
       "|---|---|---|---|---|---|\n",
       "| 28 | 1 | 130 | 0 | 2 | 0 |\n",
       "| 29 | 1 | 120 | 0 | 0 | 0 |\n",
       "| 29 | 1 | 140 | 0 | 0 | 0 |\n",
       "| ⋮ | ⋮ | ⋮ | ⋮ | ⋮ | ⋮ |\n",
       "| 56 | 1 | 155 | 1 | 0 | 1 |\n",
       "| 58 | 0 | 180 | 0 | 0 | 1 |\n",
       "| 65 | 1 | 130 | 0 | 1 | 1 |\n",
       "\n"
      ],
      "text/plain": [
       "    age sex resting_blood_pressure fasting_blood_sugar\n",
       "1   28  1   130                    0                  \n",
       "2   29  1   120                    0                  \n",
       "3   29  1   140                    0                  \n",
       "⋮   ⋮   ⋮   ⋮                      ⋮                  \n",
       "282 56  1   155                    1                  \n",
       "283 58  0   180                    0                  \n",
       "284 65  1   130                    0                  \n",
       "    resting_electrocardiographic_results heart_disease_cases\n",
       "1   2                                    0                  \n",
       "2   0                                    0                  \n",
       "3   0                                    0                  \n",
       "⋮   ⋮                                    ⋮                  \n",
       "282 0                                    1                  \n",
       "283 0                                    1                  \n",
       "284 1                                    1                  "
      ]
     },
     "metadata": {},
     "output_type": "display_data"
    },
    {
     "data": {
      "text/html": [
       "<table class=\"dataframe\">\n",
       "<caption>A grouped_df: 5 × 6</caption>\n",
       "<thead>\n",
       "\t<tr><th scope=col>age</th><th scope=col>sex</th><th scope=col>resting_blood_pressure</th><th scope=col>fasting_blood_sugar</th><th scope=col>resting_electrocardiographic_results</th><th scope=col>heart_disease_cases</th></tr>\n",
       "\t<tr><th scope=col>&lt;dbl&gt;</th><th scope=col>&lt;dbl&gt;</th><th scope=col>&lt;dbl&gt;</th><th scope=col>&lt;dbl&gt;</th><th scope=col>&lt;dbl&gt;</th><th scope=col>&lt;fct&gt;</th></tr>\n",
       "</thead>\n",
       "<tbody>\n",
       "\t<tr><td>52</td><td>1</td><td>160</td><td>0</td><td>0</td><td>1</td></tr>\n",
       "\t<tr><td>54</td><td>0</td><td>130</td><td>0</td><td>1</td><td>1</td></tr>\n",
       "\t<tr><td>56</td><td>1</td><td>155</td><td>1</td><td>0</td><td>1</td></tr>\n",
       "\t<tr><td>58</td><td>0</td><td>180</td><td>0</td><td>0</td><td>1</td></tr>\n",
       "\t<tr><td>65</td><td>1</td><td>130</td><td>0</td><td>1</td><td>1</td></tr>\n",
       "</tbody>\n",
       "</table>\n"
      ],
      "text/latex": [
       "A grouped\\_df: 5 × 6\n",
       "\\begin{tabular}{llllll}\n",
       " age & sex & resting\\_blood\\_pressure & fasting\\_blood\\_sugar & resting\\_electrocardiographic\\_results & heart\\_disease\\_cases\\\\\n",
       " <dbl> & <dbl> & <dbl> & <dbl> & <dbl> & <fct>\\\\\n",
       "\\hline\n",
       "\t 52 & 1 & 160 & 0 & 0 & 1\\\\\n",
       "\t 54 & 0 & 130 & 0 & 1 & 1\\\\\n",
       "\t 56 & 1 & 155 & 1 & 0 & 1\\\\\n",
       "\t 58 & 0 & 180 & 0 & 0 & 1\\\\\n",
       "\t 65 & 1 & 130 & 0 & 1 & 1\\\\\n",
       "\\end{tabular}\n"
      ],
      "text/markdown": [
       "\n",
       "A grouped_df: 5 × 6\n",
       "\n",
       "| age &lt;dbl&gt; | sex &lt;dbl&gt; | resting_blood_pressure &lt;dbl&gt; | fasting_blood_sugar &lt;dbl&gt; | resting_electrocardiographic_results &lt;dbl&gt; | heart_disease_cases &lt;fct&gt; |\n",
       "|---|---|---|---|---|---|\n",
       "| 52 | 1 | 160 | 0 | 0 | 1 |\n",
       "| 54 | 0 | 130 | 0 | 1 | 1 |\n",
       "| 56 | 1 | 155 | 1 | 0 | 1 |\n",
       "| 58 | 0 | 180 | 0 | 0 | 1 |\n",
       "| 65 | 1 | 130 | 0 | 1 | 1 |\n",
       "\n"
      ],
      "text/plain": [
       "  age sex resting_blood_pressure fasting_blood_sugar\n",
       "1 52  1   160                    0                  \n",
       "2 54  0   130                    0                  \n",
       "3 56  1   155                    1                  \n",
       "4 58  0   180                    0                  \n",
       "5 65  1   130                    0                  \n",
       "  resting_electrocardiographic_results heart_disease_cases\n",
       "1 0                                    1                  \n",
       "2 1                                    1                  \n",
       "3 0                                    1                  \n",
       "4 0                                    1                  \n",
       "5 1                                    1                  "
      ]
     },
     "metadata": {},
     "output_type": "display_data"
    }
   ],
   "source": [
    "# Downloading the data, cleaning the table\n",
    "\n",
    "download.file(\"https://archive.ics.uci.edu/ml/machine-learning-databases/heart-disease/processed.hungarian.data\", \"project.csv\")\n",
    "heart_disease_hungarian <- read_csv(\"project.csv\", col_names = FALSE)\n",
    "colnames(heart_disease_hungarian) <- c(\"age\", \"sex\", \"chest_pain\", \"resting_blood_pressure\", \"cholesterol\",\n",
    "                                       \"fasting_blood_sugar\", \"resting_electrocardiographic_results\", \"maximum_heart_rate_achieved\", \n",
    "                                       \"exercise_induced_angina\", \"ST_depression\",\n",
    "                                       \"slope_of_peak_exercise_ST_segment\",\n",
    "                                       \"number_of_major_vessels\", \"thalassemia\", \"heart_disease_cases\") \n",
    "\n",
    "heart_disease_hungarian <- heart_disease_hungarian |>\n",
    "            select(age, sex, resting_blood_pressure, fasting_blood_sugar,\n",
    "                   resting_electrocardiographic_results, heart_disease_cases) |>\n",
    "             mutate(resting_blood_pressure = as.numeric(resting_blood_pressure)) |>\n",
    "             mutate(sex = as.numeric(sex)) |>\n",
    "             mutate(fasting_blood_sugar = as.numeric(fasting_blood_sugar)) |>\n",
    "             mutate(resting_electrocardiographic_results = as.numeric(resting_electrocardiographic_results)) |>\n",
    "             mutate(heart_disease_cases = as_factor(heart_disease_cases)) |>\n",
    "             \n",
    "             filter(age != \"NA\") |>\n",
    "             filter(resting_blood_pressure != \"NA\") |>\n",
    "             filter(sex != \"NA\") |>\n",
    "             filter(fasting_blood_sugar != \"NA\") |>\n",
    "             filter(resting_electrocardiographic_results != \"NA\") |>\n",
    "             filter(heart_disease_cases != \"NA\")\n",
    "\n",
    "             \n",
    "\n",
    "\n",
    "heart_disease_hungarian_summarize <- heart_disease_hungarian |>\n",
    "            group_by(age,sex)\n",
    "\n",
    "\n",
    "heart_disease_hungarian\n",
    "heart_disease_hungarian_summarize\n",
    "tail(heart_disease_hungarian_summarize, 5)"
   ]
  },
  {
   "cell_type": "markdown",
   "id": "dab60e49-ea5e-4145-8c37-537131fa09c1",
   "metadata": {},
   "source": [
    "##### Variable Explenation:\n",
    "- Sex: 1 = Male, 0 = Female\n",
    "- Resting blood pressure: mmHg\n",
    "- Fasting blood sugar, 1 = >120 mg/dl, 2 = <=120 mg/dl\n",
    "- Resting electrocardiographic result: 0 = Normal, 1 = Having ST-Twave abnormality, 2 = Showing probable or definite left ventricular hypertrophy\n",
    "\n",
    "##### Summary table \n",
    "Organizing our data table, we can make an inference that heart disease cases are mostly found in older males around the age of 45-55. From our table, we can observe that the top five most frequent cases of heart disease with the same sex, age, and chest pain, are all of the male sex of ages 46 to 52.\n",
    "\n",
    "##### Training and testing\n",
    "We are using 75% of our data to split into training and testing data to predict heart disease cases."
   ]
  },
  {
   "cell_type": "code",
   "execution_count": 66,
   "id": "140dacec-2471-44ac-9528-ba5e8a626529",
   "metadata": {},
   "outputs": [
    {
     "data": {
      "text/html": [
       "<table class=\"dataframe\">\n",
       "<caption>A tibble: 212 × 6</caption>\n",
       "<thead>\n",
       "\t<tr><th scope=col>age</th><th scope=col>sex</th><th scope=col>resting_blood_pressure</th><th scope=col>fasting_blood_sugar</th><th scope=col>resting_electrocardiographic_results</th><th scope=col>heart_disease_cases</th></tr>\n",
       "\t<tr><th scope=col>&lt;dbl&gt;</th><th scope=col>&lt;dbl&gt;</th><th scope=col>&lt;dbl&gt;</th><th scope=col>&lt;dbl&gt;</th><th scope=col>&lt;dbl&gt;</th><th scope=col>&lt;fct&gt;</th></tr>\n",
       "</thead>\n",
       "<tbody>\n",
       "\t<tr><td>29</td><td>1</td><td>120</td><td>0</td><td>0</td><td>0</td></tr>\n",
       "\t<tr><td>29</td><td>1</td><td>140</td><td>0</td><td>0</td><td>0</td></tr>\n",
       "\t<tr><td>30</td><td>0</td><td>170</td><td>0</td><td>1</td><td>0</td></tr>\n",
       "\t<tr><td>⋮</td><td>⋮</td><td>⋮</td><td>⋮</td><td>⋮</td><td>⋮</td></tr>\n",
       "\t<tr><td>56</td><td>1</td><td>155</td><td>1</td><td>0</td><td>1</td></tr>\n",
       "\t<tr><td>58</td><td>0</td><td>180</td><td>0</td><td>0</td><td>1</td></tr>\n",
       "\t<tr><td>65</td><td>1</td><td>130</td><td>0</td><td>1</td><td>1</td></tr>\n",
       "</tbody>\n",
       "</table>\n"
      ],
      "text/latex": [
       "A tibble: 212 × 6\n",
       "\\begin{tabular}{llllll}\n",
       " age & sex & resting\\_blood\\_pressure & fasting\\_blood\\_sugar & resting\\_electrocardiographic\\_results & heart\\_disease\\_cases\\\\\n",
       " <dbl> & <dbl> & <dbl> & <dbl> & <dbl> & <fct>\\\\\n",
       "\\hline\n",
       "\t 29 & 1 & 120 & 0 & 0 & 0\\\\\n",
       "\t 29 & 1 & 140 & 0 & 0 & 0\\\\\n",
       "\t 30 & 0 & 170 & 0 & 1 & 0\\\\\n",
       "\t ⋮ & ⋮ & ⋮ & ⋮ & ⋮ & ⋮\\\\\n",
       "\t 56 & 1 & 155 & 1 & 0 & 1\\\\\n",
       "\t 58 & 0 & 180 & 0 & 0 & 1\\\\\n",
       "\t 65 & 1 & 130 & 0 & 1 & 1\\\\\n",
       "\\end{tabular}\n"
      ],
      "text/markdown": [
       "\n",
       "A tibble: 212 × 6\n",
       "\n",
       "| age &lt;dbl&gt; | sex &lt;dbl&gt; | resting_blood_pressure &lt;dbl&gt; | fasting_blood_sugar &lt;dbl&gt; | resting_electrocardiographic_results &lt;dbl&gt; | heart_disease_cases &lt;fct&gt; |\n",
       "|---|---|---|---|---|---|\n",
       "| 29 | 1 | 120 | 0 | 0 | 0 |\n",
       "| 29 | 1 | 140 | 0 | 0 | 0 |\n",
       "| 30 | 0 | 170 | 0 | 1 | 0 |\n",
       "| ⋮ | ⋮ | ⋮ | ⋮ | ⋮ | ⋮ |\n",
       "| 56 | 1 | 155 | 1 | 0 | 1 |\n",
       "| 58 | 0 | 180 | 0 | 0 | 1 |\n",
       "| 65 | 1 | 130 | 0 | 1 | 1 |\n",
       "\n"
      ],
      "text/plain": [
       "    age sex resting_blood_pressure fasting_blood_sugar\n",
       "1   29  1   120                    0                  \n",
       "2   29  1   140                    0                  \n",
       "3   30  0   170                    0                  \n",
       "⋮   ⋮   ⋮   ⋮                      ⋮                  \n",
       "210 56  1   155                    1                  \n",
       "211 58  0   180                    0                  \n",
       "212 65  1   130                    0                  \n",
       "    resting_electrocardiographic_results heart_disease_cases\n",
       "1   0                                    0                  \n",
       "2   0                                    0                  \n",
       "3   1                                    0                  \n",
       "⋮   ⋮                                    ⋮                  \n",
       "210 0                                    1                  \n",
       "211 0                                    1                  \n",
       "212 1                                    1                  "
      ]
     },
     "metadata": {},
     "output_type": "display_data"
    },
    {
     "data": {
      "text/html": [
       "<table class=\"dataframe\">\n",
       "<caption>A tibble: 72 × 6</caption>\n",
       "<thead>\n",
       "\t<tr><th scope=col>age</th><th scope=col>sex</th><th scope=col>resting_blood_pressure</th><th scope=col>fasting_blood_sugar</th><th scope=col>resting_electrocardiographic_results</th><th scope=col>heart_disease_cases</th></tr>\n",
       "\t<tr><th scope=col>&lt;dbl&gt;</th><th scope=col>&lt;dbl&gt;</th><th scope=col>&lt;dbl&gt;</th><th scope=col>&lt;dbl&gt;</th><th scope=col>&lt;dbl&gt;</th><th scope=col>&lt;fct&gt;</th></tr>\n",
       "</thead>\n",
       "<tbody>\n",
       "\t<tr><td>28</td><td>1</td><td>130</td><td>0</td><td>2</td><td>0</td></tr>\n",
       "\t<tr><td>32</td><td>0</td><td>105</td><td>0</td><td>0</td><td>0</td></tr>\n",
       "\t<tr><td>32</td><td>1</td><td>110</td><td>0</td><td>0</td><td>0</td></tr>\n",
       "\t<tr><td>⋮</td><td>⋮</td><td>⋮</td><td>⋮</td><td>⋮</td><td>⋮</td></tr>\n",
       "\t<tr><td>43</td><td>1</td><td>140</td><td>0</td><td>0</td><td>1</td></tr>\n",
       "\t<tr><td>47</td><td>1</td><td>160</td><td>0</td><td>1</td><td>1</td></tr>\n",
       "\t<tr><td>54</td><td>0</td><td>130</td><td>0</td><td>1</td><td>1</td></tr>\n",
       "</tbody>\n",
       "</table>\n"
      ],
      "text/latex": [
       "A tibble: 72 × 6\n",
       "\\begin{tabular}{llllll}\n",
       " age & sex & resting\\_blood\\_pressure & fasting\\_blood\\_sugar & resting\\_electrocardiographic\\_results & heart\\_disease\\_cases\\\\\n",
       " <dbl> & <dbl> & <dbl> & <dbl> & <dbl> & <fct>\\\\\n",
       "\\hline\n",
       "\t 28 & 1 & 130 & 0 & 2 & 0\\\\\n",
       "\t 32 & 0 & 105 & 0 & 0 & 0\\\\\n",
       "\t 32 & 1 & 110 & 0 & 0 & 0\\\\\n",
       "\t ⋮ & ⋮ & ⋮ & ⋮ & ⋮ & ⋮\\\\\n",
       "\t 43 & 1 & 140 & 0 & 0 & 1\\\\\n",
       "\t 47 & 1 & 160 & 0 & 1 & 1\\\\\n",
       "\t 54 & 0 & 130 & 0 & 1 & 1\\\\\n",
       "\\end{tabular}\n"
      ],
      "text/markdown": [
       "\n",
       "A tibble: 72 × 6\n",
       "\n",
       "| age &lt;dbl&gt; | sex &lt;dbl&gt; | resting_blood_pressure &lt;dbl&gt; | fasting_blood_sugar &lt;dbl&gt; | resting_electrocardiographic_results &lt;dbl&gt; | heart_disease_cases &lt;fct&gt; |\n",
       "|---|---|---|---|---|---|\n",
       "| 28 | 1 | 130 | 0 | 2 | 0 |\n",
       "| 32 | 0 | 105 | 0 | 0 | 0 |\n",
       "| 32 | 1 | 110 | 0 | 0 | 0 |\n",
       "| ⋮ | ⋮ | ⋮ | ⋮ | ⋮ | ⋮ |\n",
       "| 43 | 1 | 140 | 0 | 0 | 1 |\n",
       "| 47 | 1 | 160 | 0 | 1 | 1 |\n",
       "| 54 | 0 | 130 | 0 | 1 | 1 |\n",
       "\n"
      ],
      "text/plain": [
       "   age sex resting_blood_pressure fasting_blood_sugar\n",
       "1  28  1   130                    0                  \n",
       "2  32  0   105                    0                  \n",
       "3  32  1   110                    0                  \n",
       "⋮  ⋮   ⋮   ⋮                      ⋮                  \n",
       "70 43  1   140                    0                  \n",
       "71 47  1   160                    0                  \n",
       "72 54  0   130                    0                  \n",
       "   resting_electrocardiographic_results heart_disease_cases\n",
       "1  2                                    0                  \n",
       "2  0                                    0                  \n",
       "3  0                                    0                  \n",
       "⋮  ⋮                                    ⋮                  \n",
       "70 0                                    1                  \n",
       "71 1                                    1                  \n",
       "72 1                                    1                  "
      ]
     },
     "metadata": {},
     "output_type": "display_data"
    }
   ],
   "source": [
    "set.seed(27)\n",
    "hd_split <- initial_split(heart_disease_hungarian, prop = 0.75, strata = heart_disease_cases)\n",
    "hd_train <- training(hd_split)   \n",
    "hd_test <- testing(hd_split)\n",
    "\n",
    "hd_train\n",
    "hd_test"
   ]
  },
  {
   "cell_type": "code",
   "execution_count": 67,
   "id": "6d31f615-67e1-437a-acdc-5580269b76f2",
   "metadata": {},
   "outputs": [
    {
     "data": {
      "image/png": "[encoded data removed]",
      "text/plain": [
       "plot without title"
      ]
     },
     "metadata": {
      "image/png": {
       "height": 420,
       "width": 420
      }
     },
     "output_type": "display_data"
    }
   ],
   "source": [
    "# your code here\n",
    "heart_disease_plot <- hd_train |>\n",
    "    ggplot(aes(x = age, y = resting_blood_pressure, color = heart_disease_cases)) + \n",
    "        geom_point() +\n",
    "        labs(x = \"Age\", y = \"Resting blood pressure\", color = \"Heart disease cases\", title = \"Association between age, Resting blood sugar and heart disease\")\n",
    "\n",
    "heart_disease_plot <- heart_disease_plot + \n",
    "       scale_fill_brewer(palette = \"YlOrRd\")\n",
    "heart_disease_plot"
   ]
  },
  {
   "cell_type": "code",
   "execution_count": 63,
   "id": "4e783c84-ec2b-4e6e-8515-eb109e6277c5",
   "metadata": {},
   "outputs": [
    {
     "data": {
      "text/plain": [
       "K-means clustering with 4 clusters of sizes 69, 89, 10, 51\n",
       "\n",
       "Cluster means:\n",
       "  heart_disease_cases sex\n",
       "1                   1   1\n",
       "2                   0   1\n",
       "3                   1   0\n",
       "4                   0   0\n",
       "\n",
       "Clustering vector:\n",
       "  [1] 2 2 4 4 2 2 2 2 2 2 2 2 2 4 4 2 2 2 2 4 2 4 2 2 2 2 2 2 2 2 2 2 2 4 4 4 2\n",
       " [38] 2 4 2 2 2 2 2 4 4 4 4 4 4 4 2 2 2 4 4 4 2 2 2 2 4 2 2 2 2 2 4 2 2 2 4 4 4\n",
       " [75] 4 2 4 4 4 2 2 2 2 4 4 2 2 2 4 4 4 2 2 4 4 4 2 2 4 4 2 2 2 2 2 2 4 4 4 4 4\n",
       "[112] 2 2 2 4 4 4 2 2 2 2 2 2 4 2 2 2 2 4 4 2 2 2 4 2 2 2 2 2 2 3 1 1 1 1 1 1 1\n",
       "[149] 1 1 1 1 1 1 1 3 3 1 3 1 1 1 1 1 3 1 1 1 3 1 1 1 1 1 1 1 1 1 1 1 1 1 1 1 1\n",
       "[186] 1 1 1 1 1 3 1 1 1 1 1 1 1 1 1 1 1 1 1 1 1 1 1 1 3 1 1 1 1 1 3 1 3 1\n",
       "\n",
       "Within cluster sum of squares by cluster:\n",
       "[1] 0 0 0 0\n",
       " (between_SS / total_SS = 100.0 %)\n",
       "\n",
       "Available components:\n",
       "\n",
       "[1] \"cluster\"      \"centers\"      \"totss\"        \"withinss\"     \"tot.withinss\"\n",
       "[6] \"betweenss\"    \"size\"         \"iter\"         \"ifault\"      "
      ]
     },
     "metadata": {},
     "output_type": "display_data"
    },
    {
     "data": {
      "image/png": "[encoded data removed]",
      "text/plain": [
       "plot without title"
      ]
     },
     "metadata": {
      "image/png": {
       "height": 420,
       "width": 420
      }
     },
     "output_type": "display_data"
    }
   ],
   "source": [
    "new_hd <- select(hd_train, heart_disease_cases, sex)\n",
    "\n",
    "hd_cluster_k2 <- kmeans(new_hd, centers = 4)\n",
    "hd_cluster_k2\n",
    "\n",
    "tidy_hd_cluster_k2 <- augment(hd_cluster_k2, new_hd)\n",
    "\n",
    "tidy_hd_cluster_k2plot <- tidy_hd_cluster_k2 |>\n",
    "        ggplot(aes(x = sex, y = heart_disease_cases, color = .cluster)) + \n",
    "        geom_point() +\n",
    "        labs(x = \"sex\", y= \"heart_disease_cases\", color = \"number of cluster\")\n",
    "tidy_hd_cluster_k2plot"
   ]
  },
  {
   "cell_type": "markdown",
   "id": "566c65b5-7261-4abf-9dd3-1aa7361b6938",
   "metadata": {},
   "source": [
    "## Forward something something"
   ]
  },
  {
   "cell_type": "code",
   "execution_count": 68,
   "id": "14e3a529-aaf7-4353-9251-90493d261213",
   "metadata": {},
   "outputs": [
    {
     "data": {
      "text/html": [
       "<table class=\"dataframe\">\n",
       "<caption>A tibble: 5 × 3</caption>\n",
       "<thead>\n",
       "\t<tr><th scope=col>size</th><th scope=col>model_string</th><th scope=col>accuracy</th></tr>\n",
       "\t<tr><th scope=col>&lt;int&gt;</th><th scope=col>&lt;chr&gt;</th><th scope=col>&lt;dbl&gt;</th></tr>\n",
       "</thead>\n",
       "<tbody>\n",
       "\t<tr><td>1</td><td>heart_disease_cases ~ fasting_blood_sugar                                                                    </td><td>0.6605759</td></tr>\n",
       "\t<tr><td>2</td><td>heart_disease_cases ~ fasting_blood_sugar+sex                                                                </td><td>0.6605759</td></tr>\n",
       "\t<tr><td>3</td><td>heart_disease_cases ~ fasting_blood_sugar+sex+resting_blood_pressure                                         </td><td>0.6699889</td></tr>\n",
       "\t<tr><td>4</td><td>heart_disease_cases ~ fasting_blood_sugar+sex+resting_blood_pressure+resting_electrocardiographic_results    </td><td>0.6887043</td></tr>\n",
       "\t<tr><td>5</td><td>heart_disease_cases ~ fasting_blood_sugar+sex+resting_blood_pressure+resting_electrocardiographic_results+age</td><td>0.6935770</td></tr>\n",
       "</tbody>\n",
       "</table>\n"
      ],
      "text/latex": [
       "A tibble: 5 × 3\n",
       "\\begin{tabular}{lll}\n",
       " size & model\\_string & accuracy\\\\\n",
       " <int> & <chr> & <dbl>\\\\\n",
       "\\hline\n",
       "\t 1 & heart\\_disease\\_cases \\textasciitilde{} fasting\\_blood\\_sugar                                                                     & 0.6605759\\\\\n",
       "\t 2 & heart\\_disease\\_cases \\textasciitilde{} fasting\\_blood\\_sugar+sex                                                                 & 0.6605759\\\\\n",
       "\t 3 & heart\\_disease\\_cases \\textasciitilde{} fasting\\_blood\\_sugar+sex+resting\\_blood\\_pressure                                          & 0.6699889\\\\\n",
       "\t 4 & heart\\_disease\\_cases \\textasciitilde{} fasting\\_blood\\_sugar+sex+resting\\_blood\\_pressure+resting\\_electrocardiographic\\_results     & 0.6887043\\\\\n",
       "\t 5 & heart\\_disease\\_cases \\textasciitilde{} fasting\\_blood\\_sugar+sex+resting\\_blood\\_pressure+resting\\_electrocardiographic\\_results+age & 0.6935770\\\\\n",
       "\\end{tabular}\n"
      ],
      "text/markdown": [
       "\n",
       "A tibble: 5 × 3\n",
       "\n",
       "| size &lt;int&gt; | model_string &lt;chr&gt; | accuracy &lt;dbl&gt; |\n",
       "|---|---|---|\n",
       "| 1 | heart_disease_cases ~ fasting_blood_sugar                                                                     | 0.6605759 |\n",
       "| 2 | heart_disease_cases ~ fasting_blood_sugar+sex                                                                 | 0.6605759 |\n",
       "| 3 | heart_disease_cases ~ fasting_blood_sugar+sex+resting_blood_pressure                                          | 0.6699889 |\n",
       "| 4 | heart_disease_cases ~ fasting_blood_sugar+sex+resting_blood_pressure+resting_electrocardiographic_results     | 0.6887043 |\n",
       "| 5 | heart_disease_cases ~ fasting_blood_sugar+sex+resting_blood_pressure+resting_electrocardiographic_results+age | 0.6935770 |\n",
       "\n"
      ],
      "text/plain": [
       "  size\n",
       "1 1   \n",
       "2 2   \n",
       "3 3   \n",
       "4 4   \n",
       "5 5   \n",
       "  model_string                                                                                                 \n",
       "1 heart_disease_cases ~ fasting_blood_sugar                                                                    \n",
       "2 heart_disease_cases ~ fasting_blood_sugar+sex                                                                \n",
       "3 heart_disease_cases ~ fasting_blood_sugar+sex+resting_blood_pressure                                         \n",
       "4 heart_disease_cases ~ fasting_blood_sugar+sex+resting_blood_pressure+resting_electrocardiographic_results    \n",
       "5 heart_disease_cases ~ fasting_blood_sugar+sex+resting_blood_pressure+resting_electrocardiographic_results+age\n",
       "  accuracy \n",
       "1 0.6605759\n",
       "2 0.6605759\n",
       "3 0.6699889\n",
       "4 0.6887043\n",
       "5 0.6935770"
      ]
     },
     "metadata": {},
     "output_type": "display_data"
    }
   ],
   "source": [
    "# create an empty tibble to store the results\n",
    "names <- colnames(hd_train |> select(-heart_disease_cases))\n",
    "\n",
    "accuracies <- tibble(size = integer(), \n",
    "                     model_string = character(), \n",
    "                     accuracy = numeric())\n",
    "\n",
    "# create a model specification\n",
    "knn_spec <- nearest_neighbor(weight_func = \"rectangular\", \n",
    "                             neighbors = tune()) |>\n",
    "     set_engine(\"kknn\") |>\n",
    "     set_mode(\"classification\")\n",
    "\n",
    "# create a 5-fold cross-validation object\n",
    "heart_disease_vfold <- vfold_cv(hd_train, v = 5, strata = heart_disease_cases)\n",
    "\n",
    "# store the total number of predictors\n",
    "n_total <- length(names)\n",
    "\n",
    "# stores selected predictors\n",
    "selected <- c()\n",
    "\n",
    "# for every size from 1 to the total number of predictors\n",
    "for (i in 1:n_total) {\n",
    "    # for every predictor still not added yet\n",
    "    accs <- list()\n",
    "    models <- list()\n",
    "    for (j in 1:length(names)) {\n",
    "        # create a model string for this combination of predictors\n",
    "        preds_new <- c(selected, names[[j]])\n",
    "        model_string <- paste(\"heart_disease_cases\", \"~\", paste(preds_new, collapse=\"+\"))\n",
    "\n",
    "        # create a recipe from the model string\n",
    "        heart_disease_recipe <- recipe(as.formula(model_string), \n",
    "                                data = hd_split) |>\n",
    "                          step_scale(all_predictors()) |>\n",
    "                          step_center(all_predictors())\n",
    "\n",
    "        # tune the KNN classifier with these predictors, \n",
    "        # and collect the accuracy for the best K\n",
    "        acc <- workflow() |>\n",
    "          add_recipe(heart_disease_recipe) |>\n",
    "          add_model(knn_spec) |>\n",
    "          tune_grid(resamples = heart_disease_vfold, grid = 10) |>\n",
    "          collect_metrics() |>\n",
    "          filter(.metric == \"accuracy\") |>\n",
    "          summarize(mx = max(mean))\n",
    "        acc <- acc$mx |> unlist()\n",
    "\n",
    "        # add this result to the dataframe\n",
    "        accs[[j]] <- acc\n",
    "        models[[j]] <- model_string\n",
    "    }\n",
    "    jstar <- which.max(unlist(accs))\n",
    "    accuracies <- accuracies |> \n",
    "      add_row(size = i, \n",
    "              model_string = models[[jstar]], \n",
    "              accuracy = accs[[jstar]])\n",
    "    selected <- c(selected, names[[jstar]])\n",
    "    names <- names[-jstar]\n",
    "}\n",
    "accuracies\n"
   ]
  },
  {
   "cell_type": "markdown",
   "id": "715fa90c-a52a-496b-a7a0-2364581b6258",
   "metadata": {
    "tags": []
   },
   "source": [
    "##### Explanation of Data Graph:\n",
    "From reading the graph there seems to be no real relationship between the variables blood pressure and heart disease. Patients diagnosed with heart disease are predominantly found within the age range of 45-60 hence, we can establish the connection between age and heart disease cases.\n",
    "\n",
    "### Methods:\n",
    "We will begin our data analysis cleaning and wrangling the dataset we have chosen. We aim to find our answer by utilizing scatterplots for the predictors we have chosen for the scope of this project. Forementioned, we have chosen eight of the fourteen attributes of the data set: age, sex, resting blood pressure, resting electrocardiographic results, fasting blood sugar, chest pain, and heart disease. Studies support that our chosen predictors have associations with cardiovascular heart disease but the extent of each is still unknown. \n",
    "\n",
    "### Expected Outcomes and Significance:\n",
    "\n",
    "#### What do we expect to find: \n",
    "We expect to find associations between heart disease with our chosen predictors. Based on our findings we will be able to identify the most telltale variable for heart disease as well as the relationship predictors may have with one another. We can expect heart disease risk and diagnosis to increase with age, but the same could not be said for the other predictors.\n",
    "\n",
    "#### What impact do such findings have:\n",
    "Our findings will contribute to identifying portions of the population at higher risk for heart disease based on our predictor variables. This research is done to advocate for health and prevention and to contribute to the current knowledge we have on heart disease.\n",
    "\n",
    "#### What future questions could this lead to: \n",
    "Our project leads to many future questions: How can we prevent it within the population, especially if the community doesn't necessarily have the resources for prevention? Also, what other variables other than the ones we have tested could lead to being predisposed to heart disease? Lastly, how much control do patients have over their risk for heart disease and how can they prevent heart disease with this new information?\n",
    "\n",
    "### Discussion:\n",
    "\n",
    "#### References\n",
    "- Ashley, E. A., Raxwal, V., & Froelicher, V. (2001). An evidence-based review of the resting electrocardiogram as a screening technique for heart disease. Progress in Cardiovascular Diseases, 44(1), 55–67. https://doi.org/10.1053/pcad.2001.24683\n",
    "- He, K., Chen, X., Shi, Z., Shi, S., Tian, Q., Hu, X., Song, R., Bai, K., Shi, W., Wang, J., Li, H., Ding, J., Geng, S., & Sheng, X. (2022). Relationship of resting heart rate and blood pressure with all-cause and cardiovascular disease mortality. Public Health, 208, 80–88. https://doi.org/10.1016/j.puhe.2022.03.020 \n",
    "- Maas, A. H. E. M., & Appelman, Y. E. A. (2010). Gender differences in coronary heart disease. Netherlands Heart Journal, 18(12), 598–603. https://doi.org/10.1007/s12471-010-0841-y\n",
    "- Moran, A. E., Tzong, K. Y., Forouzanfar, M. H., Roth, G. A., Mensah, G. A., Ezzati, M., Murray, C. J. L., & Naghavi, M. (2014). Variations in ischemic heart disease burden by age, country, and income: the global burden of diseases, injuries, and risk factors 2010 study. Global Heart, 9(1), 91. https://doi.org/10.1016/j.gheart.2013.12.007 \n",
    "- Park, C., Guallar, E., Linton, J. A., Lee, D.-C., Jang, Y., Son, D. K., Han, E.-J., Baek, S. J., Yun, Y. D., Jee, S. H., & Samet, J. M. (2013). Fasting glucose level and the risk of incident atherosclerotic cardiovascular diseases. Diabetes Care, 36(7), 1988–1993. https://doi.org/10.2337/dc12-1577 "
   ]
  },
  {
   "cell_type": "code",
   "execution_count": null,
   "id": "ffcb5df0-9f7a-4d8c-801d-7f8e250ba0e4",
   "metadata": {},
   "outputs": [],
   "source": []
  },
  {
   "cell_type": "code",
   "execution_count": null,
   "id": "8929d179-79c2-4863-8d84-76c7549b959c",
   "metadata": {},
   "outputs": [],
   "source": []
  },
  {
   "cell_type": "code",
   "execution_count": null,
   "id": "1bbbf594-ed23-4b30-91bb-609a26624301",
   "metadata": {},
   "outputs": [],
   "source": []
  },
  {
   "cell_type": "code",
   "execution_count": null,
   "id": "1668e9cc-2786-4743-92c9-abc5f23c6603",
   "metadata": {},
   "outputs": [],
   "source": []
  },
  {
   "cell_type": "code",
   "execution_count": null,
   "id": "8a8e4d9d-b614-4011-9e25-488c3785bfa4",
   "metadata": {},
   "outputs": [],
   "source": []
  },
  {
   "cell_type": "code",
   "execution_count": null,
   "id": "37607267-65e3-4751-80cc-e8683695abea",
   "metadata": {},
   "outputs": [],
   "source": []
  },
  {
   "cell_type": "code",
   "execution_count": null,
   "id": "6e601731-889d-4db4-b369-b79d87e36cf4",
   "metadata": {},
   "outputs": [],
   "source": []
  }
 ],
 "metadata": {
  "kernelspec": {
   "display_name": "R",
   "language": "R",
   "name": "ir"
  },
  "language_info": {
   "codemirror_mode": "r",
   "file_extension": ".r",
   "mimetype": "text/x-r-source",
   "name": "R",
   "pygments_lexer": "r",
   "version": "4.1.3"
  }
 },
 "nbformat": 4,
 "nbformat_minor": 5
}
