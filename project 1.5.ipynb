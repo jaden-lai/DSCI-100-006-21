{
 "cells": [
  {
   "cell_type": "markdown",
   "id": "b336fa50-5302-4437-a25a-066940531ede",
   "metadata": {},
   "source": [
    "# Data Science Group Group Project Proposal 006-021\n",
    "## Heart Disease Hungarian Data:\n",
    "#### Members: \n",
    "- Jaden Lai (79465795)\n",
    "- Percy Pham (70210562)\n",
    "- Sydney Trim (86059649)\n",
    "\n",
    "### Introduction:\n",
    "Heart disease is a leading cause of death worldwide that is influenced by many variables including age, sex, blood pressure, diet, and many more. This project aims to identify patients most likely to experience heart problems (chest pain, heart disease) and the associations between them by analyzing age, sex, resting blood pressure, resting electrocardiographic results, and fasting blood sugar. To answer this question we will be analyzing and manipulating the Heat Disease Data Set from the Hungarian Institute of Cardiology. This dataset includes fourteen attributes. However, we have selected eight of them to use in our analysis as we seek an answer to our question.\n",
    "\n",
    "Question: Patient’s most likely to experience heart problems (chest pain, exercise induced angina, thalassemia, heart disease) using predictors, age, sex, resting blood pressure, resting electrocardiographic results, fasting blood sugar\n"
   ]
  },
  {
   "cell_type": "code",
   "execution_count": 2,
   "id": "279b6d09-e456-4782-acd4-172ec93c9757",
   "metadata": {},
   "outputs": [
    {
     "name": "stderr",
     "output_type": "stream",
     "text": [
      "── \u001b[1mAttaching packages\u001b[22m ─────────────────────────────────────── tidyverse 1.3.1 ──\n",
      "\n",
      "\u001b[32m✔\u001b[39m \u001b[34mggplot2\u001b[39m 3.3.6     \u001b[32m✔\u001b[39m \u001b[34mpurrr  \u001b[39m 0.3.4\n",
      "\u001b[32m✔\u001b[39m \u001b[34mtibble \u001b[39m 3.1.7     \u001b[32m✔\u001b[39m \u001b[34mdplyr  \u001b[39m 1.0.9\n",
      "\u001b[32m✔\u001b[39m \u001b[34mtidyr  \u001b[39m 1.2.0     \u001b[32m✔\u001b[39m \u001b[34mstringr\u001b[39m 1.4.0\n",
      "\u001b[32m✔\u001b[39m \u001b[34mreadr  \u001b[39m 2.1.2     \u001b[32m✔\u001b[39m \u001b[34mforcats\u001b[39m 0.5.1\n",
      "\n",
      "── \u001b[1mConflicts\u001b[22m ────────────────────────────────────────── tidyverse_conflicts() ──\n",
      "\u001b[31m✖\u001b[39m \u001b[34mdplyr\u001b[39m::\u001b[32mfilter()\u001b[39m masks \u001b[34mstats\u001b[39m::filter()\n",
      "\u001b[31m✖\u001b[39m \u001b[34mdplyr\u001b[39m::\u001b[32mlag()\u001b[39m    masks \u001b[34mstats\u001b[39m::lag()\n",
      "\n",
      "── \u001b[1mAttaching packages\u001b[22m ────────────────────────────────────── tidymodels 1.0.0 ──\n",
      "\n",
      "\u001b[32m✔\u001b[39m \u001b[34mbroom       \u001b[39m 1.0.0     \u001b[32m✔\u001b[39m \u001b[34mrsample     \u001b[39m 1.0.0\n",
      "\u001b[32m✔\u001b[39m \u001b[34mdials       \u001b[39m 1.0.0     \u001b[32m✔\u001b[39m \u001b[34mtune        \u001b[39m 1.0.0\n",
      "\u001b[32m✔\u001b[39m \u001b[34minfer       \u001b[39m 1.0.2     \u001b[32m✔\u001b[39m \u001b[34mworkflows   \u001b[39m 1.0.0\n",
      "\u001b[32m✔\u001b[39m \u001b[34mmodeldata   \u001b[39m 1.0.0     \u001b[32m✔\u001b[39m \u001b[34mworkflowsets\u001b[39m 1.0.0\n",
      "\u001b[32m✔\u001b[39m \u001b[34mparsnip     \u001b[39m 1.0.0     \u001b[32m✔\u001b[39m \u001b[34myardstick   \u001b[39m 1.0.0\n",
      "\u001b[32m✔\u001b[39m \u001b[34mrecipes     \u001b[39m 1.0.1     \n",
      "\n",
      "── \u001b[1mConflicts\u001b[22m ───────────────────────────────────────── tidymodels_conflicts() ──\n",
      "\u001b[31m✖\u001b[39m \u001b[34mscales\u001b[39m::\u001b[32mdiscard()\u001b[39m masks \u001b[34mpurrr\u001b[39m::discard()\n",
      "\u001b[31m✖\u001b[39m \u001b[34mdplyr\u001b[39m::\u001b[32mfilter()\u001b[39m   masks \u001b[34mstats\u001b[39m::filter()\n",
      "\u001b[31m✖\u001b[39m \u001b[34mrecipes\u001b[39m::\u001b[32mfixed()\u001b[39m  masks \u001b[34mstringr\u001b[39m::fixed()\n",
      "\u001b[31m✖\u001b[39m \u001b[34mdplyr\u001b[39m::\u001b[32mlag()\u001b[39m      masks \u001b[34mstats\u001b[39m::lag()\n",
      "\u001b[31m✖\u001b[39m \u001b[34myardstick\u001b[39m::\u001b[32mspec()\u001b[39m masks \u001b[34mreadr\u001b[39m::spec()\n",
      "\u001b[31m✖\u001b[39m \u001b[34mrecipes\u001b[39m::\u001b[32mstep()\u001b[39m   masks \u001b[34mstats\u001b[39m::step()\n",
      "\u001b[34m•\u001b[39m Use \u001b[32mtidymodels_prefer()\u001b[39m to resolve common conflicts.\n",
      "\n",
      "\n",
      "Attaching package: ‘testthat’\n",
      "\n",
      "\n",
      "The following object is masked from ‘package:rsample’:\n",
      "\n",
      "    matches\n",
      "\n",
      "\n",
      "The following object is masked from ‘package:dplyr’:\n",
      "\n",
      "    matches\n",
      "\n",
      "\n",
      "The following object is masked from ‘package:purrr’:\n",
      "\n",
      "    is_null\n",
      "\n",
      "\n",
      "The following objects are masked from ‘package:readr’:\n",
      "\n",
      "    edition_get, local_edition\n",
      "\n",
      "\n",
      "The following object is masked from ‘package:tidyr’:\n",
      "\n",
      "    matches\n",
      "\n",
      "\n",
      "\n",
      "Attaching package: ‘rlang’\n",
      "\n",
      "\n",
      "The following objects are masked from ‘package:testthat’:\n",
      "\n",
      "    is_false, is_null, is_true\n",
      "\n",
      "\n",
      "The following objects are masked from ‘package:purrr’:\n",
      "\n",
      "    %@%, as_function, flatten, flatten_chr, flatten_dbl, flatten_int,\n",
      "    flatten_lgl, flatten_raw, invoke, splice\n",
      "\n",
      "\n"
     ]
    }
   ],
   "source": [
    "library(tidyverse)\n",
    "library(repr)\n",
    "library(tidymodels)\n",
    "options(repr.matrix.max.rows = 6)\n",
    "source('tests.R')\n",
    "source('cleanup.R')"
   ]
  },
  {
   "cell_type": "markdown",
   "id": "304e04df-2202-4c13-b1f3-57a83da68ca0",
   "metadata": {},
   "source": [
    "### Preliminary exploratory data analysis\n",
    "\n",
    "##### Downloading the data, cleaning the table"
   ]
  },
  {
   "cell_type": "code",
   "execution_count": 146,
   "id": "9485b818-23a5-4e78-a08a-10b5c98530df",
   "metadata": {},
   "outputs": [
    {
     "name": "stderr",
     "output_type": "stream",
     "text": [
      "\u001b[1mRows: \u001b[22m\u001b[34m294\u001b[39m \u001b[1mColumns: \u001b[22m\u001b[34m14\u001b[39m\n",
      "\u001b[36m──\u001b[39m \u001b[1mColumn specification\u001b[22m \u001b[36m────────────────────────────────────────────────────────\u001b[39m\n",
      "\u001b[1mDelimiter:\u001b[22m \",\"\n",
      "\u001b[31mchr\u001b[39m (9): X4, X5, X6, X7, X8, X9, X11, X12, X13\n",
      "\u001b[32mdbl\u001b[39m (5): X1, X2, X3, X10, X14\n",
      "\n",
      "\u001b[36mℹ\u001b[39m Use `spec()` to retrieve the full column specification for this data.\n",
      "\u001b[36mℹ\u001b[39m Specify the column types or set `show_col_types = FALSE` to quiet this message.\n",
      "Warning message in mask$eval_all_mutate(quo):\n",
      "“NAs introduced by coercion”\n",
      "\u001b[1m\u001b[22m`summarise()` has grouped output by 'age', 'sex', 'chest_pain',\n",
      "'resting_blood_pressure', 'fasting_blood_sugar'. You can override using the\n",
      "`.groups` argument.\n"
     ]
    },
    {
     "data": {
      "text/html": [
       "<table class=\"dataframe\">\n",
       "<caption>A grouped_df: 5 × 7</caption>\n",
       "<thead>\n",
       "\t<tr><th scope=col>age</th><th scope=col>sex</th><th scope=col>chest_pain</th><th scope=col>resting_blood_pressure</th><th scope=col>fasting_blood_sugar</th><th scope=col>resting_electrocardiographic_results</th><th scope=col>heart_disease_cases</th></tr>\n",
       "\t<tr><th scope=col>&lt;dbl&gt;</th><th scope=col>&lt;chr&gt;</th><th scope=col>&lt;chr&gt;</th><th scope=col>&lt;dbl&gt;</th><th scope=col>&lt;chr&gt;</th><th scope=col>&lt;chr&gt;</th><th scope=col>&lt;dbl&gt;</th></tr>\n",
       "</thead>\n",
       "<tbody>\n",
       "\t<tr><td>28</td><td><span style=white-space:pre-wrap>Male  </span></td><td>ATypical angina</td><td>130</td><td>&lt;= 120</td><td>ATypical angina</td><td>0</td></tr>\n",
       "\t<tr><td>29</td><td><span style=white-space:pre-wrap>Male  </span></td><td>ATypical angina</td><td>120</td><td>&lt;= 120</td><td>ATypical angina</td><td>0</td></tr>\n",
       "\t<tr><td>29</td><td><span style=white-space:pre-wrap>Male  </span></td><td>ATypical angina</td><td>140</td><td>&lt;= 120</td><td>ATypical angina</td><td>0</td></tr>\n",
       "\t<tr><td>30</td><td>Female</td><td>Typical angina </td><td>170</td><td>&lt;= 120</td><td>Typical angina </td><td>0</td></tr>\n",
       "\t<tr><td>31</td><td>Female</td><td>ATypical angina</td><td>100</td><td>&lt;= 120</td><td>ATypical angina</td><td>0</td></tr>\n",
       "</tbody>\n",
       "</table>\n"
      ],
      "text/latex": [
       "A grouped\\_df: 5 × 7\n",
       "\\begin{tabular}{lllllll}\n",
       " age & sex & chest\\_pain & resting\\_blood\\_pressure & fasting\\_blood\\_sugar & resting\\_electrocardiographic\\_results & heart\\_disease\\_cases\\\\\n",
       " <dbl> & <chr> & <chr> & <dbl> & <chr> & <chr> & <dbl>\\\\\n",
       "\\hline\n",
       "\t 28 & Male   & ATypical angina & 130 & <= 120 & ATypical angina & 0\\\\\n",
       "\t 29 & Male   & ATypical angina & 120 & <= 120 & ATypical angina & 0\\\\\n",
       "\t 29 & Male   & ATypical angina & 140 & <= 120 & ATypical angina & 0\\\\\n",
       "\t 30 & Female & Typical angina  & 170 & <= 120 & Typical angina  & 0\\\\\n",
       "\t 31 & Female & ATypical angina & 100 & <= 120 & ATypical angina & 0\\\\\n",
       "\\end{tabular}\n"
      ],
      "text/markdown": [
       "\n",
       "A grouped_df: 5 × 7\n",
       "\n",
       "| age &lt;dbl&gt; | sex &lt;chr&gt; | chest_pain &lt;chr&gt; | resting_blood_pressure &lt;dbl&gt; | fasting_blood_sugar &lt;chr&gt; | resting_electrocardiographic_results &lt;chr&gt; | heart_disease_cases &lt;dbl&gt; |\n",
       "|---|---|---|---|---|---|---|\n",
       "| 28 | Male   | ATypical angina | 130 | &lt;= 120 | ATypical angina | 0 |\n",
       "| 29 | Male   | ATypical angina | 120 | &lt;= 120 | ATypical angina | 0 |\n",
       "| 29 | Male   | ATypical angina | 140 | &lt;= 120 | ATypical angina | 0 |\n",
       "| 30 | Female | Typical angina  | 170 | &lt;= 120 | Typical angina  | 0 |\n",
       "| 31 | Female | ATypical angina | 100 | &lt;= 120 | ATypical angina | 0 |\n",
       "\n"
      ],
      "text/plain": [
       "  age sex    chest_pain      resting_blood_pressure fasting_blood_sugar\n",
       "1 28  Male   ATypical angina 130                    <= 120             \n",
       "2 29  Male   ATypical angina 120                    <= 120             \n",
       "3 29  Male   ATypical angina 140                    <= 120             \n",
       "4 30  Female Typical angina  170                    <= 120             \n",
       "5 31  Female ATypical angina 100                    <= 120             \n",
       "  resting_electrocardiographic_results heart_disease_cases\n",
       "1 ATypical angina                      0                  \n",
       "2 ATypical angina                      0                  \n",
       "3 ATypical angina                      0                  \n",
       "4 Typical angina                       0                  \n",
       "5 ATypical angina                      0                  "
      ]
     },
     "metadata": {},
     "output_type": "display_data"
    },
    {
     "data": {
      "text/html": [
       "<table class=\"dataframe\">\n",
       "<caption>A grouped_df: 259 × 7</caption>\n",
       "<thead>\n",
       "\t<tr><th scope=col>age</th><th scope=col>sex</th><th scope=col>chest_pain</th><th scope=col>resting_blood_pressure</th><th scope=col>fasting_blood_sugar</th><th scope=col>resting_electrocardiographic_results</th><th scope=col>heart_disease_cases</th></tr>\n",
       "\t<tr><th scope=col>&lt;dbl&gt;</th><th scope=col>&lt;chr&gt;</th><th scope=col>&lt;chr&gt;</th><th scope=col>&lt;dbl&gt;</th><th scope=col>&lt;chr&gt;</th><th scope=col>&lt;chr&gt;</th><th scope=col>&lt;dbl&gt;</th></tr>\n",
       "</thead>\n",
       "<tbody>\n",
       "\t<tr><td>28</td><td>Male</td><td>ATypical angina</td><td>130</td><td>&lt;= 120</td><td>ATypical angina</td><td>0</td></tr>\n",
       "\t<tr><td>29</td><td>Male</td><td>ATypical angina</td><td>120</td><td>&lt;= 120</td><td>ATypical angina</td><td>0</td></tr>\n",
       "\t<tr><td>29</td><td>Male</td><td>ATypical angina</td><td>140</td><td>&lt;= 120</td><td>ATypical angina</td><td>0</td></tr>\n",
       "\t<tr><td>⋮</td><td>⋮</td><td>⋮</td><td>⋮</td><td>⋮</td><td>⋮</td><td>⋮</td></tr>\n",
       "\t<tr><td>65</td><td>Male</td><td>Asymptomatic</td><td>140</td><td>&gt; 120 </td><td>Asymptomatic</td><td>1</td></tr>\n",
       "\t<tr><td>65</td><td>Male</td><td>Asymptomatic</td><td>170</td><td>&gt; 120 </td><td>Asymptomatic</td><td>1</td></tr>\n",
       "\t<tr><td>66</td><td>Male</td><td>Asymptomatic</td><td>140</td><td>&lt;= 120</td><td>Asymptomatic</td><td>1</td></tr>\n",
       "</tbody>\n",
       "</table>\n"
      ],
      "text/latex": [
       "A grouped\\_df: 259 × 7\n",
       "\\begin{tabular}{lllllll}\n",
       " age & sex & chest\\_pain & resting\\_blood\\_pressure & fasting\\_blood\\_sugar & resting\\_electrocardiographic\\_results & heart\\_disease\\_cases\\\\\n",
       " <dbl> & <chr> & <chr> & <dbl> & <chr> & <chr> & <dbl>\\\\\n",
       "\\hline\n",
       "\t 28 & Male & ATypical angina & 130 & <= 120 & ATypical angina & 0\\\\\n",
       "\t 29 & Male & ATypical angina & 120 & <= 120 & ATypical angina & 0\\\\\n",
       "\t 29 & Male & ATypical angina & 140 & <= 120 & ATypical angina & 0\\\\\n",
       "\t ⋮ & ⋮ & ⋮ & ⋮ & ⋮ & ⋮ & ⋮\\\\\n",
       "\t 65 & Male & Asymptomatic & 140 & > 120  & Asymptomatic & 1\\\\\n",
       "\t 65 & Male & Asymptomatic & 170 & > 120  & Asymptomatic & 1\\\\\n",
       "\t 66 & Male & Asymptomatic & 140 & <= 120 & Asymptomatic & 1\\\\\n",
       "\\end{tabular}\n"
      ],
      "text/markdown": [
       "\n",
       "A grouped_df: 259 × 7\n",
       "\n",
       "| age &lt;dbl&gt; | sex &lt;chr&gt; | chest_pain &lt;chr&gt; | resting_blood_pressure &lt;dbl&gt; | fasting_blood_sugar &lt;chr&gt; | resting_electrocardiographic_results &lt;chr&gt; | heart_disease_cases &lt;dbl&gt; |\n",
       "|---|---|---|---|---|---|---|\n",
       "| 28 | Male | ATypical angina | 130 | &lt;= 120 | ATypical angina | 0 |\n",
       "| 29 | Male | ATypical angina | 120 | &lt;= 120 | ATypical angina | 0 |\n",
       "| 29 | Male | ATypical angina | 140 | &lt;= 120 | ATypical angina | 0 |\n",
       "| ⋮ | ⋮ | ⋮ | ⋮ | ⋮ | ⋮ | ⋮ |\n",
       "| 65 | Male | Asymptomatic | 140 | &gt; 120  | Asymptomatic | 1 |\n",
       "| 65 | Male | Asymptomatic | 170 | &gt; 120  | Asymptomatic | 1 |\n",
       "| 66 | Male | Asymptomatic | 140 | &lt;= 120 | Asymptomatic | 1 |\n",
       "\n"
      ],
      "text/plain": [
       "    age sex  chest_pain      resting_blood_pressure fasting_blood_sugar\n",
       "1   28  Male ATypical angina 130                    <= 120             \n",
       "2   29  Male ATypical angina 120                    <= 120             \n",
       "3   29  Male ATypical angina 140                    <= 120             \n",
       "⋮   ⋮   ⋮    ⋮               ⋮                      ⋮                  \n",
       "257 65  Male Asymptomatic    140                    > 120              \n",
       "258 65  Male Asymptomatic    170                    > 120              \n",
       "259 66  Male Asymptomatic    140                    <= 120             \n",
       "    resting_electrocardiographic_results heart_disease_cases\n",
       "1   ATypical angina                      0                  \n",
       "2   ATypical angina                      0                  \n",
       "3   ATypical angina                      0                  \n",
       "⋮   ⋮                                    ⋮                  \n",
       "257 Asymptomatic                         1                  \n",
       "258 Asymptomatic                         1                  \n",
       "259 Asymptomatic                         1                  "
      ]
     },
     "metadata": {},
     "output_type": "display_data"
    }
   ],
   "source": [
    "# Downloading the data, cleaning the table\n",
    "download.file(\"https://archive.ics.uci.edu/ml/machine-learning-databases/heart-disease/processed.hungarian.data\", \"data/project_.csv\")\n",
    "heart_disease_hungarian <- read_csv(\"data/project_.csv\", col_names = FALSE)\n",
    "colnames(heart_disease_hungarian) <- c(\"age\", \"sex\", \"chest_pain\", \"resting_blood_pressure\", \"cholesterol\",\n",
    "                                       \"fasting_blood_sugar\", \"resting_electrocardiographic_results\", \"maximum_heart_rate_achieved\", \n",
    "                                       \"exercise_induced_angina\", \"ST_depression\",\n",
    "                                       \"slope_of_peak_exercise_ST_segment\",\n",
    "                                       \"number_of_major_vessels\", \"thalassemia\", \"heart_disease_cases\") \n",
    "\n",
    "heart_disease_hungarian <- heart_disease_hungarian |>\n",
    "            select(age, sex, chest_pain, resting_blood_pressure, fasting_blood_sugar,\n",
    "                   resting_electrocardiographic_results, heart_disease_cases) |> \n",
    "            mutate(sex = recode(sex, \"1\" = \"Male\", \"0\" = \"Female\")) |>\n",
    "            mutate(chest_pain = recode(chest_pain, \"1\" = \"Typical angina\",\n",
    "                                       \"2\" = \"ATypical angina\",\n",
    "                                       \"3\" = \"Non-angina pain\",\n",
    "                                       \"4\" = \"Asymptomatic\")) |>\n",
    "            mutate(resting_blood_pressure = as.numeric(resting_blood_pressure)) |>\n",
    "            mutate(fasting_blood_sugar = recode(fasting_blood_sugar, \"1\" = \"> 120\",\n",
    "                                       \"0\" = \"<= 120\")) |>\n",
    "            mutate(resting_electrocardiographic_results = recode(chest_pain, \"0\" = \"Normal\",\n",
    "                                       \"1\" = \"Having ST-T wave abnormality\",\n",
    "                                       \"2\" = \"Showing probable or definite left ventricular hypertrophy\")) |>\n",
    "            group_by(age,sex,chest_pain,resting_blood_pressure,fasting_blood_sugar,resting_electrocardiographic_results) |>\n",
    "            summarize(heart_disease_cases = sum(heart_disease_cases, na.rm = TRUE))\n",
    "\n",
    "head(heart_disease_hungarian, 5)\n",
    "heart_disease_hungarian"
   ]
  },
  {
   "cell_type": "markdown",
   "id": "e058519d-0118-4bb2-b423-68950974f968",
   "metadata": {},
   "source": [
    "##### Training and testing"
   ]
  },
  {
   "cell_type": "code",
   "execution_count": 156,
   "id": "140dacec-2471-44ac-9528-ba5e8a626529",
   "metadata": {},
   "outputs": [
    {
     "data": {
      "text/html": [
       "<table class=\"dataframe\">\n",
       "<caption>A grouped_df: 193 × 7</caption>\n",
       "<thead>\n",
       "\t<tr><th scope=col>age</th><th scope=col>sex</th><th scope=col>chest_pain</th><th scope=col>resting_blood_pressure</th><th scope=col>fasting_blood_sugar</th><th scope=col>resting_electrocardiographic_results</th><th scope=col>heart_disease_cases</th></tr>\n",
       "\t<tr><th scope=col>&lt;dbl&gt;</th><th scope=col>&lt;chr&gt;</th><th scope=col>&lt;chr&gt;</th><th scope=col>&lt;dbl&gt;</th><th scope=col>&lt;chr&gt;</th><th scope=col>&lt;chr&gt;</th><th scope=col>&lt;dbl&gt;</th></tr>\n",
       "</thead>\n",
       "<tbody>\n",
       "\t<tr><td>29</td><td><span style=white-space:pre-wrap>Male  </span></td><td>ATypical angina</td><td>120</td><td>&lt;= 120</td><td>ATypical angina</td><td>0</td></tr>\n",
       "\t<tr><td>29</td><td><span style=white-space:pre-wrap>Male  </span></td><td>ATypical angina</td><td>140</td><td>&lt;= 120</td><td>ATypical angina</td><td>0</td></tr>\n",
       "\t<tr><td>30</td><td>Female</td><td>Typical angina </td><td>170</td><td>&lt;= 120</td><td>Typical angina </td><td>0</td></tr>\n",
       "\t<tr><td>⋮</td><td>⋮</td><td>⋮</td><td>⋮</td><td>⋮</td><td>⋮</td><td>⋮</td></tr>\n",
       "\t<tr><td>63</td><td>Male</td><td>Asymptomatic</td><td>150</td><td>&lt;= 120</td><td>Asymptomatic</td><td>1</td></tr>\n",
       "\t<tr><td>65</td><td>Male</td><td>Asymptomatic</td><td>140</td><td>&gt; 120 </td><td>Asymptomatic</td><td>1</td></tr>\n",
       "\t<tr><td>66</td><td>Male</td><td>Asymptomatic</td><td>140</td><td>&lt;= 120</td><td>Asymptomatic</td><td>1</td></tr>\n",
       "</tbody>\n",
       "</table>\n"
      ],
      "text/latex": [
       "A grouped\\_df: 193 × 7\n",
       "\\begin{tabular}{lllllll}\n",
       " age & sex & chest\\_pain & resting\\_blood\\_pressure & fasting\\_blood\\_sugar & resting\\_electrocardiographic\\_results & heart\\_disease\\_cases\\\\\n",
       " <dbl> & <chr> & <chr> & <dbl> & <chr> & <chr> & <dbl>\\\\\n",
       "\\hline\n",
       "\t 29 & Male   & ATypical angina & 120 & <= 120 & ATypical angina & 0\\\\\n",
       "\t 29 & Male   & ATypical angina & 140 & <= 120 & ATypical angina & 0\\\\\n",
       "\t 30 & Female & Typical angina  & 170 & <= 120 & Typical angina  & 0\\\\\n",
       "\t ⋮ & ⋮ & ⋮ & ⋮ & ⋮ & ⋮ & ⋮\\\\\n",
       "\t 63 & Male & Asymptomatic & 150 & <= 120 & Asymptomatic & 1\\\\\n",
       "\t 65 & Male & Asymptomatic & 140 & > 120  & Asymptomatic & 1\\\\\n",
       "\t 66 & Male & Asymptomatic & 140 & <= 120 & Asymptomatic & 1\\\\\n",
       "\\end{tabular}\n"
      ],
      "text/markdown": [
       "\n",
       "A grouped_df: 193 × 7\n",
       "\n",
       "| age &lt;dbl&gt; | sex &lt;chr&gt; | chest_pain &lt;chr&gt; | resting_blood_pressure &lt;dbl&gt; | fasting_blood_sugar &lt;chr&gt; | resting_electrocardiographic_results &lt;chr&gt; | heart_disease_cases &lt;dbl&gt; |\n",
       "|---|---|---|---|---|---|---|\n",
       "| 29 | Male   | ATypical angina | 120 | &lt;= 120 | ATypical angina | 0 |\n",
       "| 29 | Male   | ATypical angina | 140 | &lt;= 120 | ATypical angina | 0 |\n",
       "| 30 | Female | Typical angina  | 170 | &lt;= 120 | Typical angina  | 0 |\n",
       "| ⋮ | ⋮ | ⋮ | ⋮ | ⋮ | ⋮ | ⋮ |\n",
       "| 63 | Male | Asymptomatic | 150 | &lt;= 120 | Asymptomatic | 1 |\n",
       "| 65 | Male | Asymptomatic | 140 | &gt; 120  | Asymptomatic | 1 |\n",
       "| 66 | Male | Asymptomatic | 140 | &lt;= 120 | Asymptomatic | 1 |\n",
       "\n"
      ],
      "text/plain": [
       "    age sex    chest_pain      resting_blood_pressure fasting_blood_sugar\n",
       "1   29  Male   ATypical angina 120                    <= 120             \n",
       "2   29  Male   ATypical angina 140                    <= 120             \n",
       "3   30  Female Typical angina  170                    <= 120             \n",
       "⋮   ⋮   ⋮      ⋮               ⋮                      ⋮                  \n",
       "191 63  Male   Asymptomatic    150                    <= 120             \n",
       "192 65  Male   Asymptomatic    140                    > 120              \n",
       "193 66  Male   Asymptomatic    140                    <= 120             \n",
       "    resting_electrocardiographic_results heart_disease_cases\n",
       "1   ATypical angina                      0                  \n",
       "2   ATypical angina                      0                  \n",
       "3   Typical angina                       0                  \n",
       "⋮   ⋮                                    ⋮                  \n",
       "191 Asymptomatic                         1                  \n",
       "192 Asymptomatic                         1                  \n",
       "193 Asymptomatic                         1                  "
      ]
     },
     "metadata": {},
     "output_type": "display_data"
    },
    {
     "data": {
      "text/html": [
       "<table class=\"dataframe\">\n",
       "<caption>A grouped_df: 66 × 7</caption>\n",
       "<thead>\n",
       "\t<tr><th scope=col>age</th><th scope=col>sex</th><th scope=col>chest_pain</th><th scope=col>resting_blood_pressure</th><th scope=col>fasting_blood_sugar</th><th scope=col>resting_electrocardiographic_results</th><th scope=col>heart_disease_cases</th></tr>\n",
       "\t<tr><th scope=col>&lt;dbl&gt;</th><th scope=col>&lt;chr&gt;</th><th scope=col>&lt;chr&gt;</th><th scope=col>&lt;dbl&gt;</th><th scope=col>&lt;chr&gt;</th><th scope=col>&lt;chr&gt;</th><th scope=col>&lt;dbl&gt;</th></tr>\n",
       "</thead>\n",
       "<tbody>\n",
       "\t<tr><td>28</td><td><span style=white-space:pre-wrap>Male  </span></td><td>ATypical angina</td><td>130</td><td>&lt;= 120</td><td>ATypical angina</td><td>0</td></tr>\n",
       "\t<tr><td>31</td><td><span style=white-space:pre-wrap>Male  </span></td><td><span style=white-space:pre-wrap>Asymptomatic   </span></td><td>120</td><td>&lt;= 120</td><td><span style=white-space:pre-wrap>Asymptomatic   </span></td><td>1</td></tr>\n",
       "\t<tr><td>32</td><td>Female</td><td>ATypical angina</td><td>105</td><td>&lt;= 120</td><td>ATypical angina</td><td>0</td></tr>\n",
       "\t<tr><td>⋮</td><td>⋮</td><td>⋮</td><td>⋮</td><td>⋮</td><td>⋮</td><td>⋮</td></tr>\n",
       "\t<tr><td>59</td><td>Male</td><td>Non-angina pain</td><td>130</td><td>&lt;= 120</td><td>Non-angina pain</td><td>0</td></tr>\n",
       "\t<tr><td>65</td><td>Male</td><td><span style=white-space:pre-wrap>Asymptomatic   </span></td><td>130</td><td>&lt;= 120</td><td><span style=white-space:pre-wrap>Asymptomatic   </span></td><td>1</td></tr>\n",
       "\t<tr><td>65</td><td>Male</td><td><span style=white-space:pre-wrap>Asymptomatic   </span></td><td>170</td><td>&gt; 120 </td><td><span style=white-space:pre-wrap>Asymptomatic   </span></td><td>1</td></tr>\n",
       "</tbody>\n",
       "</table>\n"
      ],
      "text/latex": [
       "A grouped\\_df: 66 × 7\n",
       "\\begin{tabular}{lllllll}\n",
       " age & sex & chest\\_pain & resting\\_blood\\_pressure & fasting\\_blood\\_sugar & resting\\_electrocardiographic\\_results & heart\\_disease\\_cases\\\\\n",
       " <dbl> & <chr> & <chr> & <dbl> & <chr> & <chr> & <dbl>\\\\\n",
       "\\hline\n",
       "\t 28 & Male   & ATypical angina & 130 & <= 120 & ATypical angina & 0\\\\\n",
       "\t 31 & Male   & Asymptomatic    & 120 & <= 120 & Asymptomatic    & 1\\\\\n",
       "\t 32 & Female & ATypical angina & 105 & <= 120 & ATypical angina & 0\\\\\n",
       "\t ⋮ & ⋮ & ⋮ & ⋮ & ⋮ & ⋮ & ⋮\\\\\n",
       "\t 59 & Male & Non-angina pain & 130 & <= 120 & Non-angina pain & 0\\\\\n",
       "\t 65 & Male & Asymptomatic    & 130 & <= 120 & Asymptomatic    & 1\\\\\n",
       "\t 65 & Male & Asymptomatic    & 170 & > 120  & Asymptomatic    & 1\\\\\n",
       "\\end{tabular}\n"
      ],
      "text/markdown": [
       "\n",
       "A grouped_df: 66 × 7\n",
       "\n",
       "| age &lt;dbl&gt; | sex &lt;chr&gt; | chest_pain &lt;chr&gt; | resting_blood_pressure &lt;dbl&gt; | fasting_blood_sugar &lt;chr&gt; | resting_electrocardiographic_results &lt;chr&gt; | heart_disease_cases &lt;dbl&gt; |\n",
       "|---|---|---|---|---|---|---|\n",
       "| 28 | Male   | ATypical angina | 130 | &lt;= 120 | ATypical angina | 0 |\n",
       "| 31 | Male   | Asymptomatic    | 120 | &lt;= 120 | Asymptomatic    | 1 |\n",
       "| 32 | Female | ATypical angina | 105 | &lt;= 120 | ATypical angina | 0 |\n",
       "| ⋮ | ⋮ | ⋮ | ⋮ | ⋮ | ⋮ | ⋮ |\n",
       "| 59 | Male | Non-angina pain | 130 | &lt;= 120 | Non-angina pain | 0 |\n",
       "| 65 | Male | Asymptomatic    | 130 | &lt;= 120 | Asymptomatic    | 1 |\n",
       "| 65 | Male | Asymptomatic    | 170 | &gt; 120  | Asymptomatic    | 1 |\n",
       "\n"
      ],
      "text/plain": [
       "   age sex    chest_pain      resting_blood_pressure fasting_blood_sugar\n",
       "1  28  Male   ATypical angina 130                    <= 120             \n",
       "2  31  Male   Asymptomatic    120                    <= 120             \n",
       "3  32  Female ATypical angina 105                    <= 120             \n",
       "⋮  ⋮   ⋮      ⋮               ⋮                      ⋮                  \n",
       "64 59  Male   Non-angina pain 130                    <= 120             \n",
       "65 65  Male   Asymptomatic    130                    <= 120             \n",
       "66 65  Male   Asymptomatic    170                    > 120              \n",
       "   resting_electrocardiographic_results heart_disease_cases\n",
       "1  ATypical angina                      0                  \n",
       "2  Asymptomatic                         1                  \n",
       "3  ATypical angina                      0                  \n",
       "⋮  ⋮                                    ⋮                  \n",
       "64 Non-angina pain                      0                  \n",
       "65 Asymptomatic                         1                  \n",
       "66 Asymptomatic                         1                  "
      ]
     },
     "metadata": {},
     "output_type": "display_data"
    }
   ],
   "source": [
    "set.seed(27)\n",
    "hd_split <- initial_split(heart_disease_hungarian, prop = 0.75, strata = heart_disease_cases)\n",
    "hd_train <- training(hd_split)   \n",
    "hd_test <- testing(hd_split)\n",
    "\n",
    "hd_train\n",
    "hd_test"
   ]
  },
  {
   "cell_type": "code",
   "execution_count": 157,
   "id": "6d31f615-67e1-437a-acdc-5580269b76f2",
   "metadata": {},
   "outputs": [
    {
     "data": {
      "image/png": "[encoded data removed]",
      "text/plain": [
       "plot without title"
      ]
     },
     "metadata": {
      "image/png": {
       "height": 420,
       "width": 420
      }
     },
     "output_type": "display_data"
    }
   ],
   "source": [
    "# your code here\n",
    "heart_disease_plot <- hd_train |>\n",
    "    ggplot(aes(x = age, y = heart_disease_cases, color = sex)) + \n",
    "        geom_point() +\n",
    "        labs(x = \"Age\", y = \"Heart disease cases\", color = \"Gender\", title = \"Association between age, sex and heart disease\")\n",
    "\n",
    "heart_disease_plot"
   ]
  },
  {
   "cell_type": "markdown",
   "id": "715fa90c-a52a-496b-a7a0-2364581b6258",
   "metadata": {},
   "source": [
    "### Methods:\n",
    "We will begin our data analysis starting with cleaning, followed by wrangling of the data set we have chosen to determine an answer to our question. We aim to find our answer by utilizing scatterplots for the predictors we have chosen for the scope of this project. We will likely be utilizing other graphs including line and bar graphs for this project. Forementioned, we have chosen eight of the fourteen attributes of the data set: age (Moran, 2014), sex (Maas, 2013), resting blood pressure (He, et al, 2022), resting electrocardiographic results (Ashley, 2001), fasting blood sugar (Park, 2013), chest pain, and heart disease. Studies support that our chosen predictors have associations with cardiovascular heart disease but the extent of each is still unknown.\n"
   ]
  },
  {
   "cell_type": "markdown",
   "id": "caf83dae-0476-45bc-92ff-36403e6f98e8",
   "metadata": {
    "tags": []
   },
   "source": [
    "### Expected Outcomes and Significance:\n",
    "\n",
    "#### What do we expect to find: \n",
    "We expect to find an association between heart problems like chest pain and heart disease with other variables such as age, sex, resting blood pressure, resting electrocardiographs, and fasting blood pressure. Based on our findings we will be able to identify the variable that associates most with heart disease as well as the relationship they have with one another. We are certain that heart disease risk and diagnosis increase with age and resting blood pressure, but the same could not be said for the other predictors like sex and fasting blood sugar.\n",
    "\n",
    "#### What impact do such findings have:\n",
    "The data we observe from this project will allow us to identify portions of the population at higher risk for heart disease based on the predictor variables we test. Hence, allowing for prevention through testing and contributing to the current body of knowledge we have on heart disease.\n",
    "\n",
    "#### What future questions could this lead to: \n",
    "Our project leads to many future questions: How can we prevent it within the population, especially if the community doesn't necessarily have the resources for prevention? Also, what other variables other than the ones we have tested could lead to being predisposed heart disease? Lastly, how much control do patients have over their risk for heart disease and how can they prevent heart disease with this information?\n"
   ]
  },
  {
   "cell_type": "markdown",
   "id": "d74d1f48-fb6a-48e6-868c-2e7ed08b9367",
   "metadata": {},
   "source": [
    "##### References\n",
    "- Ashley, E. A., Raxwal, V., & Froelicher, V. (2001). An evidence-based review of the resting electrocardiogram as a screening technique for heart disease. Progress in Cardiovascular Diseases, 44(1), 55–67. https://doi.org/10.1053/pcad.2001.24683\n",
    "- He, K., Chen, X., Shi, Z., Shi, S., Tian, Q., Hu, X., Song, R., Bai, K., Shi, W., Wang, J., Li, H., Ding, J., Geng, S., & Sheng, X. (2022). Relationship of resting heart rate and blood pressure with all-cause and cardiovascular disease mortality. Public Health, 208, 80–88. https://doi.org/10.1016/j.puhe.2022.03.020 \n",
    "- Maas, A. H. E. M., & Appelman, Y. E. A. (2010). Gender differences in coronary heart disease. Netherlands Heart Journal, 18(12), 598–603. https://doi.org/10.1007/s12471-010-0841-y\n",
    "- Moran, A. E., Tzong, K. Y., Forouzanfar, M. H., Roth, G. A., Mensah, G. A., Ezzati, M., Murray, C. J. L., & Naghavi, M. (2014). Variations in ischemic heart disease burden by age, country, and income: the global burden of diseases, injuries, and risk factors 2010 study. Global Heart, 9(1), 91. https://doi.org/10.1016/j.gheart.2013.12.007 \n",
    "- Park, C., Guallar, E., Linton, J. A., Lee, D.-C., Jang, Y., Son, D. K., Han, E.-J., Baek, S. J., Yun, Y. D., Jee, S. H., & Samet, J. M. (2013). Fasting glucose level and the risk of incident atherosclerotic cardiovascular diseases. Diabetes Care, 36(7), 1988–1993. https://doi.org/10.2337/dc12-1577 "
   ]
  },
  {
   "cell_type": "code",
   "execution_count": null,
   "id": "9d456c07-298a-4c39-be91-bccd6eac39a1",
   "metadata": {},
   "outputs": [],
   "source": []
  }
 ],
 "metadata": {
  "kernelspec": {
   "display_name": "R",
   "language": "R",
   "name": "ir"
  },
  "language_info": {
   "codemirror_mode": "r",
   "file_extension": ".r",
   "mimetype": "text/x-r-source",
   "name": "R",
   "pygments_lexer": "r",
   "version": "4.1.3"
  }
 },
 "nbformat": 4,
 "nbformat_minor": 5
}
