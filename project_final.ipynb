{
 "cells": [
  {
   "cell_type": "markdown",
   "id": "b336fa50-5302-4437-a25a-066940531ede",
   "metadata": {},
   "source": [
    "# Data Science Group Project Report 006-021\n",
    "*An analysis on the Heart Disease Hungarian Data*\n",
    "##### Members: \n",
    "- Jaden Lai (79465795)\n",
    "- Percy Pham (70210562)\n",
    "- Sydney Trim (86059649)\n",
    "\n",
    "### Introduction:\n",
    "Heart disease is a leading cause of death worldwide and is associated with various variables. The aim of this project is to identify patients who have, or are likely to develop, heart disease by analyzing age, resting blood pressure, maximum heart rate, and cholesterol levels. To answer this question, we will analyze the Heart Disease Data Set from the Hungarian Institute of Cardiology. Although this dataset provides fourteen attributes, we have selected four of them to find an answer to our question. We chose these variables based on references from scientific articles, and because we were limited to using exclusively numerical variables as categorical values such as sex interfered with the forward selection process. Maximum heart rate, cholesterol, age, and resting blood pressure have been linked to heart disease through peer-reviewed scientific articles. These papers claim that the maximum heart rate and age of a patient increase the risk of heart diseases (Han, 2022), that resting blood pressure is positively associated with an increased risk (He, 2022), and lastly, that cholesterol concentrations are connected to coronary heart disease (Liou, 2020).\n",
    "\n",
    "##### Question: \n",
    "How can age, resting blood pressure, maximum heart rate, and cholesterol be used to identify the patients who are at the highest risk of experiencing heart disease?"
   ]
  },
  {
   "cell_type": "code",
   "execution_count": 1,
   "id": "279b6d09-e456-4782-acd4-172ec93c9757",
   "metadata": {
    "tags": [],
    "vscode": {
     "languageId": "r"
    }
   },
   "outputs": [
    {
     "name": "stderr",
     "output_type": "stream",
     "text": [
      "Warning message in system(\"timedatectl\", intern = TRUE):\n",
      "“running command 'timedatectl' had status 1”\n",
      "── \u001b[1mAttaching core tidyverse packages\u001b[22m ──────────────────────── tidyverse 2.0.0 ──\n",
      "\u001b[32m✔\u001b[39m \u001b[34mdplyr    \u001b[39m 1.1.0     \u001b[32m✔\u001b[39m \u001b[34mreadr    \u001b[39m 2.1.4\n",
      "\u001b[32m✔\u001b[39m \u001b[34mforcats  \u001b[39m 1.0.0     \u001b[32m✔\u001b[39m \u001b[34mstringr  \u001b[39m 1.5.0\n",
      "\u001b[32m✔\u001b[39m \u001b[34mggplot2  \u001b[39m 3.4.1     \u001b[32m✔\u001b[39m \u001b[34mtibble   \u001b[39m 3.2.1\n",
      "\u001b[32m✔\u001b[39m \u001b[34mlubridate\u001b[39m 1.9.2     \u001b[32m✔\u001b[39m \u001b[34mtidyr    \u001b[39m 1.3.0\n",
      "\u001b[32m✔\u001b[39m \u001b[34mpurrr    \u001b[39m 1.0.1     \n",
      "── \u001b[1mConflicts\u001b[22m ────────────────────────────────────────── tidyverse_conflicts() ──\n",
      "\u001b[31m✖\u001b[39m \u001b[34mdplyr\u001b[39m::\u001b[32mfilter()\u001b[39m masks \u001b[34mstats\u001b[39m::filter()\n",
      "\u001b[31m✖\u001b[39m \u001b[34mdplyr\u001b[39m::\u001b[32mlag()\u001b[39m    masks \u001b[34mstats\u001b[39m::lag()\n",
      "\u001b[36mℹ\u001b[39m Use the conflicted package (\u001b[3m\u001b[34m<http://conflicted.r-lib.org/>\u001b[39m\u001b[23m) to force all conflicts to become errors\n",
      "── \u001b[1mAttaching packages\u001b[22m ────────────────────────────────────── tidymodels 1.0.0 ──\n",
      "\n",
      "\u001b[32m✔\u001b[39m \u001b[34mbroom       \u001b[39m 1.0.4     \u001b[32m✔\u001b[39m \u001b[34mrsample     \u001b[39m 1.1.1\n",
      "\u001b[32m✔\u001b[39m \u001b[34mdials       \u001b[39m 1.2.0     \u001b[32m✔\u001b[39m \u001b[34mtune        \u001b[39m 1.1.1\n",
      "\u001b[32m✔\u001b[39m \u001b[34minfer       \u001b[39m 1.0.4     \u001b[32m✔\u001b[39m \u001b[34mworkflows   \u001b[39m 1.1.3\n",
      "\u001b[32m✔\u001b[39m \u001b[34mmodeldata   \u001b[39m 1.1.0     \u001b[32m✔\u001b[39m \u001b[34mworkflowsets\u001b[39m 1.0.1\n",
      "\u001b[32m✔\u001b[39m \u001b[34mparsnip     \u001b[39m 1.1.0     \u001b[32m✔\u001b[39m \u001b[34myardstick   \u001b[39m 1.1.0\n",
      "\u001b[32m✔\u001b[39m \u001b[34mrecipes     \u001b[39m 1.0.5     \n",
      "\n",
      "── \u001b[1mConflicts\u001b[22m ───────────────────────────────────────── tidymodels_conflicts() ──\n",
      "\u001b[31m✖\u001b[39m \u001b[34mscales\u001b[39m::\u001b[32mdiscard()\u001b[39m masks \u001b[34mpurrr\u001b[39m::discard()\n",
      "\u001b[31m✖\u001b[39m \u001b[34mdplyr\u001b[39m::\u001b[32mfilter()\u001b[39m   masks \u001b[34mstats\u001b[39m::filter()\n",
      "\u001b[31m✖\u001b[39m \u001b[34mrecipes\u001b[39m::\u001b[32mfixed()\u001b[39m  masks \u001b[34mstringr\u001b[39m::fixed()\n",
      "\u001b[31m✖\u001b[39m \u001b[34mdplyr\u001b[39m::\u001b[32mlag()\u001b[39m      masks \u001b[34mstats\u001b[39m::lag()\n",
      "\u001b[31m✖\u001b[39m \u001b[34myardstick\u001b[39m::\u001b[32mspec()\u001b[39m masks \u001b[34mreadr\u001b[39m::spec()\n",
      "\u001b[31m✖\u001b[39m \u001b[34mrecipes\u001b[39m::\u001b[32mstep()\u001b[39m   masks \u001b[34mstats\u001b[39m::step()\n",
      "\u001b[34m•\u001b[39m Use suppressPackageStartupMessages() to eliminate package startup messages\n",
      "\n"
     ]
    }
   ],
   "source": [
    "library(tidyverse)\n",
    "library(repr)\n",
    "library(tidymodels)\n",
    "options(repr.matrix.max.rows = 6)"
   ]
  },
  {
   "cell_type": "markdown",
   "id": "304e04df-2202-4c13-b1f3-57a83da68ca0",
   "metadata": {},
   "source": [
    "### Methods & Results\n",
    "\n",
    "We begin by downloading, cleaning, and wrangling the data set where we assign column names, select our variables of interest, and filter missing cells; all the pre-processing needed to analyze this heart data set."
   ]
  },
  {
   "cell_type": "code",
   "execution_count": 2,
   "id": "9485b818-23a5-4e78-a08a-10b5c98530df",
   "metadata": {
    "tags": [],
    "vscode": {
     "languageId": "r"
    }
   },
   "outputs": [
    {
     "name": "stderr",
     "output_type": "stream",
     "text": [
      "\u001b[1mRows: \u001b[22m\u001b[34m294\u001b[39m \u001b[1mColumns: \u001b[22m\u001b[34m14\u001b[39m\n",
      "\u001b[36m──\u001b[39m \u001b[1mColumn specification\u001b[22m \u001b[36m────────────────────────────────────────────────────────\u001b[39m\n",
      "\u001b[1mDelimiter:\u001b[22m \",\"\n",
      "\u001b[31mchr\u001b[39m (9): X4, X5, X6, X7, X8, X9, X11, X12, X13\n",
      "\u001b[32mdbl\u001b[39m (5): X1, X2, X3, X10, X14\n",
      "\n",
      "\u001b[36mℹ\u001b[39m Use `spec()` to retrieve the full column specification for this data.\n",
      "\u001b[36mℹ\u001b[39m Specify the column types or set `show_col_types = FALSE` to quiet this message.\n",
      "Warning message:\n",
      "“\u001b[1m\u001b[22mThere was 1 warning in `mutate()`.\n",
      "\u001b[1m\u001b[22m\u001b[36mℹ\u001b[39m In argument: `maximum_heart_rate_achieved =\n",
      "  as.numeric(maximum_heart_rate_achieved)`.\n",
      "Caused by warning:\n",
      "\u001b[33m!\u001b[39m NAs introduced by coercion”\n",
      "Warning message:\n",
      "“\u001b[1m\u001b[22mThere was 1 warning in `mutate()`.\n",
      "\u001b[1m\u001b[22m\u001b[36mℹ\u001b[39m In argument: `cholesterol = as.numeric(cholesterol)`.\n",
      "Caused by warning:\n",
      "\u001b[33m!\u001b[39m NAs introduced by coercion”\n",
      "Warning message:\n",
      "“\u001b[1m\u001b[22mThere was 1 warning in `mutate()`.\n",
      "\u001b[1m\u001b[22m\u001b[36mℹ\u001b[39m In argument: `resting_blood_pressure = as.numeric(resting_blood_pressure)`.\n",
      "Caused by warning:\n",
      "\u001b[33m!\u001b[39m NAs introduced by coercion”\n"
     ]
    },
    {
     "data": {
      "text/html": [
       "<table class=\"dataframe\">\n",
       "<caption>A tibble: 270 × 5</caption>\n",
       "<thead>\n",
       "\t<tr><th scope=col>age</th><th scope=col>resting_blood_pressure</th><th scope=col>maximum_heart_rate_achieved</th><th scope=col>cholesterol</th><th scope=col>heart_disease_cases</th></tr>\n",
       "\t<tr><th scope=col>&lt;dbl&gt;</th><th scope=col>&lt;dbl&gt;</th><th scope=col>&lt;dbl&gt;</th><th scope=col>&lt;dbl&gt;</th><th scope=col>&lt;fct&gt;</th></tr>\n",
       "</thead>\n",
       "<tbody>\n",
       "\t<tr><td>28</td><td>130</td><td>185</td><td>132</td><td>0</td></tr>\n",
       "\t<tr><td>29</td><td>120</td><td>160</td><td>243</td><td>0</td></tr>\n",
       "\t<tr><td>30</td><td>170</td><td>170</td><td>237</td><td>0</td></tr>\n",
       "\t<tr><td>⋮</td><td>⋮</td><td>⋮</td><td>⋮</td><td>⋮</td></tr>\n",
       "\t<tr><td>56</td><td>155</td><td>150</td><td>342</td><td>1</td></tr>\n",
       "\t<tr><td>58</td><td>180</td><td>110</td><td>393</td><td>1</td></tr>\n",
       "\t<tr><td>65</td><td>130</td><td>115</td><td>275</td><td>1</td></tr>\n",
       "</tbody>\n",
       "</table>\n"
      ],
      "text/latex": [
       "A tibble: 270 × 5\n",
       "\\begin{tabular}{lllll}\n",
       " age & resting\\_blood\\_pressure & maximum\\_heart\\_rate\\_achieved & cholesterol & heart\\_disease\\_cases\\\\\n",
       " <dbl> & <dbl> & <dbl> & <dbl> & <fct>\\\\\n",
       "\\hline\n",
       "\t 28 & 130 & 185 & 132 & 0\\\\\n",
       "\t 29 & 120 & 160 & 243 & 0\\\\\n",
       "\t 30 & 170 & 170 & 237 & 0\\\\\n",
       "\t ⋮ & ⋮ & ⋮ & ⋮ & ⋮\\\\\n",
       "\t 56 & 155 & 150 & 342 & 1\\\\\n",
       "\t 58 & 180 & 110 & 393 & 1\\\\\n",
       "\t 65 & 130 & 115 & 275 & 1\\\\\n",
       "\\end{tabular}\n"
      ],
      "text/markdown": [
       "\n",
       "A tibble: 270 × 5\n",
       "\n",
       "| age &lt;dbl&gt; | resting_blood_pressure &lt;dbl&gt; | maximum_heart_rate_achieved &lt;dbl&gt; | cholesterol &lt;dbl&gt; | heart_disease_cases &lt;fct&gt; |\n",
       "|---|---|---|---|---|\n",
       "| 28 | 130 | 185 | 132 | 0 |\n",
       "| 29 | 120 | 160 | 243 | 0 |\n",
       "| 30 | 170 | 170 | 237 | 0 |\n",
       "| ⋮ | ⋮ | ⋮ | ⋮ | ⋮ |\n",
       "| 56 | 155 | 150 | 342 | 1 |\n",
       "| 58 | 180 | 110 | 393 | 1 |\n",
       "| 65 | 130 | 115 | 275 | 1 |\n",
       "\n"
      ],
      "text/plain": [
       "    age resting_blood_pressure maximum_heart_rate_achieved cholesterol\n",
       "1   28  130                    185                         132        \n",
       "2   29  120                    160                         243        \n",
       "3   30  170                    170                         237        \n",
       "⋮   ⋮   ⋮                      ⋮                           ⋮          \n",
       "268 56  155                    150                         342        \n",
       "269 58  180                    110                         393        \n",
       "270 65  130                    115                         275        \n",
       "    heart_disease_cases\n",
       "1   0                  \n",
       "2   0                  \n",
       "3   0                  \n",
       "⋮   ⋮                  \n",
       "268 1                  \n",
       "269 1                  \n",
       "270 1                  "
      ]
     },
     "metadata": {},
     "output_type": "display_data"
    }
   ],
   "source": [
    "download.file(\"https://archive.ics.uci.edu/ml/machine-learning-databases/heart-disease/processed.hungarian.data\", \"project.csv\")\n",
    "heart_disease_hungarian <- read_csv(\"project.csv\", col_names = FALSE)\n",
    "colnames(heart_disease_hungarian) <- c(\"age\", \"sex\", \"chest_pain\", \"resting_blood_pressure\", \"cholesterol\",\n",
    "                                       \"fasting_blood_sugar\", \"resting_electrocardiographic_results\", \"maximum_heart_rate_achieved\", \n",
    "                                       \"exercise_induced_angina\", \"ST_depression\",\n",
    "                                       \"slope_of_peak_exercise_ST_segment\",\n",
    "                                       \"number_of_major_vessels\", \"thalassemia\", \"heart_disease_cases\")\n",
    "\n",
    "heart_disease_hungarian <- heart_disease_hungarian |>\n",
    "             select(age, resting_blood_pressure, maximum_heart_rate_achieved,  cholesterol, heart_disease_cases) |>\n",
    "             mutate(maximum_heart_rate_achieved = as.numeric(maximum_heart_rate_achieved)) |>\n",
    "             mutate(cholesterol = as.numeric(cholesterol)) |>\n",
    "             mutate(resting_blood_pressure = as.numeric(resting_blood_pressure)) |>\n",
    "             mutate(heart_disease_cases = as.factor(heart_disease_cases)) |>\n",
    "             filter(maximum_heart_rate_achieved != \"NA\") |>\n",
    "             filter(resting_blood_pressure != \"NA\") |>\n",
    "             filter(age != \"NA\") |>\n",
    "             filter(resting_blood_pressure != \"NA\") |>\n",
    "             filter(cholesterol != \"?\")\n",
    "\n",
    "heart_disease_hungarian"
   ]
  },
  {
   "cell_type": "markdown",
   "id": "0af8dae2-4d47-4088-88be-d36be7cfcca9",
   "metadata": {},
   "source": [
    "*Table 1: Cleaned heart disease data set*"
   ]
  },
  {
   "cell_type": "markdown",
   "id": "857d31fa-7b61-4c31-8abc-8bf7c571af75",
   "metadata": {},
   "source": [
    "##### Variable Explanation:\n",
    "- Resting blood pressure: mmHg\n",
    "- Cholesterol: mg/dl\n",
    "- Heart disease cases: 1 = Positive, 0 = Negative"
   ]
  },
  {
   "cell_type": "markdown",
   "id": "ac3ee5b0-f47a-4ddc-b36c-c4b4a45ac7af",
   "metadata": {},
   "source": [
    "Now that we have cleaned our dataset, we perform a summary in preparation for exploratory data analysis."
   ]
  },
  {
   "cell_type": "code",
   "execution_count": 3,
   "id": "c22f12e9-6dab-43d6-a015-0c7eab0b20ec",
   "metadata": {
    "tags": [],
    "vscode": {
     "languageId": "r"
    }
   },
   "outputs": [
    {
     "data": {
      "text/html": [
       "<table class=\"dataframe\">\n",
       "<caption>A tibble: 31 × 2</caption>\n",
       "<thead>\n",
       "\t<tr><th scope=col>age</th><th scope=col>case_count</th></tr>\n",
       "\t<tr><th scope=col>&lt;dbl&gt;</th><th scope=col>&lt;int&gt;</th></tr>\n",
       "</thead>\n",
       "<tbody>\n",
       "\t<tr><td>31</td><td>1</td></tr>\n",
       "\t<tr><td>32</td><td>1</td></tr>\n",
       "\t<tr><td>33</td><td>1</td></tr>\n",
       "\t<tr><td>⋮</td><td>⋮</td></tr>\n",
       "\t<tr><td>48</td><td>8</td></tr>\n",
       "\t<tr><td>52</td><td>8</td></tr>\n",
       "\t<tr><td>54</td><td>8</td></tr>\n",
       "</tbody>\n",
       "</table>\n"
      ],
      "text/latex": [
       "A tibble: 31 × 2\n",
       "\\begin{tabular}{ll}\n",
       " age & case\\_count\\\\\n",
       " <dbl> & <int>\\\\\n",
       "\\hline\n",
       "\t 31 & 1\\\\\n",
       "\t 32 & 1\\\\\n",
       "\t 33 & 1\\\\\n",
       "\t ⋮ & ⋮\\\\\n",
       "\t 48 & 8\\\\\n",
       "\t 52 & 8\\\\\n",
       "\t 54 & 8\\\\\n",
       "\\end{tabular}\n"
      ],
      "text/markdown": [
       "\n",
       "A tibble: 31 × 2\n",
       "\n",
       "| age &lt;dbl&gt; | case_count &lt;int&gt; |\n",
       "|---|---|\n",
       "| 31 | 1 |\n",
       "| 32 | 1 |\n",
       "| 33 | 1 |\n",
       "| ⋮ | ⋮ |\n",
       "| 48 | 8 |\n",
       "| 52 | 8 |\n",
       "| 54 | 8 |\n",
       "\n"
      ],
      "text/plain": [
       "   age case_count\n",
       "1  31  1         \n",
       "2  32  1         \n",
       "3  33  1         \n",
       "⋮  ⋮   ⋮         \n",
       "29 48  8         \n",
       "30 52  8         \n",
       "31 54  8         "
      ]
     },
     "metadata": {},
     "output_type": "display_data"
    }
   ],
   "source": [
    " heart_disease_hungarian_summarize <- heart_disease_hungarian |> \n",
    "            filter(heart_disease_cases == 1) |>\n",
    "            group_by(age) |>\n",
    "            summarize(case_count = n()) |>\n",
    "            arrange(case_count)\n",
    "\n",
    "heart_disease_hungarian_summarize"
   ]
  },
  {
   "cell_type": "markdown",
   "id": "ec4f6716-3193-4ff5-b2e9-0850ec5de01f",
   "metadata": {},
   "source": [
    "*Table 2: Number of cases per year of age in the data set in descending order*"
   ]
  },
  {
   "cell_type": "code",
   "execution_count": 4,
   "id": "b604d6b3-74a6-4a26-8ff6-4c779451162d",
   "metadata": {
    "tags": [],
    "vscode": {
     "languageId": "r"
    }
   },
   "outputs": [
    {
     "data": {
      "text/html": [
       "<table class=\"dataframe\">\n",
       "<caption>A tibble: 6 × 2</caption>\n",
       "<thead>\n",
       "\t<tr><th scope=col>age</th><th scope=col>case_count</th></tr>\n",
       "\t<tr><th scope=col>&lt;dbl&gt;</th><th scope=col>&lt;int&gt;</th></tr>\n",
       "</thead>\n",
       "<tbody>\n",
       "\t<tr><td>58</td><td>5</td></tr>\n",
       "\t<tr><td>46</td><td>6</td></tr>\n",
       "\t<tr><td>49</td><td>7</td></tr>\n",
       "\t<tr><td>48</td><td>8</td></tr>\n",
       "\t<tr><td>52</td><td>8</td></tr>\n",
       "\t<tr><td>54</td><td>8</td></tr>\n",
       "</tbody>\n",
       "</table>\n"
      ],
      "text/latex": [
       "A tibble: 6 × 2\n",
       "\\begin{tabular}{ll}\n",
       " age & case\\_count\\\\\n",
       " <dbl> & <int>\\\\\n",
       "\\hline\n",
       "\t 58 & 5\\\\\n",
       "\t 46 & 6\\\\\n",
       "\t 49 & 7\\\\\n",
       "\t 48 & 8\\\\\n",
       "\t 52 & 8\\\\\n",
       "\t 54 & 8\\\\\n",
       "\\end{tabular}\n"
      ],
      "text/markdown": [
       "\n",
       "A tibble: 6 × 2\n",
       "\n",
       "| age &lt;dbl&gt; | case_count &lt;int&gt; |\n",
       "|---|---|\n",
       "| 58 | 5 |\n",
       "| 46 | 6 |\n",
       "| 49 | 7 |\n",
       "| 48 | 8 |\n",
       "| 52 | 8 |\n",
       "| 54 | 8 |\n",
       "\n"
      ],
      "text/plain": [
       "  age case_count\n",
       "1 58  5         \n",
       "2 46  6         \n",
       "3 49  7         \n",
       "4 48  8         \n",
       "5 52  8         \n",
       "6 54  8         "
      ]
     },
     "metadata": {},
     "output_type": "display_data"
    }
   ],
   "source": [
    "tail(heart_disease_hungarian_summarize, 6)"
   ]
  },
  {
   "cell_type": "markdown",
   "id": "cfa23082-bd79-4b79-adde-2b9116985faf",
   "metadata": {},
   "source": [
    "*Table 3: Top six years of age with most heart disease cases*"
   ]
  },
  {
   "cell_type": "markdown",
   "id": "dab60e49-ea5e-4145-8c37-537131fa09c1",
   "metadata": {},
   "source": [
    "##### Table Summary:\n",
    "Organizing our data set, we can make an inference that heart disease cases are mostly found in older patients in the age range of 45-55, testing positive most frequently at the age of 54, and as early as 31."
   ]
  },
  {
   "cell_type": "code",
   "execution_count": 5,
   "id": "c0dbed5b-b265-418e-abf3-1eb6c8169428",
   "metadata": {
    "tags": [],
    "vscode": {
     "languageId": "r"
    }
   },
   "outputs": [
    {
     "data": {
      "image/png": "[encoded data removed]",
      "text/plain": [
       "plot without title"
      ]
     },
     "metadata": {
      "image/png": {
       "height": 420,
       "width": 780
      }
     },
     "output_type": "display_data"
    }
   ],
   "source": [
    "options(repr.plot.width = 13, repr.plot.height = 7)\n",
    "\n",
    "heart_disease_plot <- heart_disease_hungarian |> \n",
    "    ggplot(aes(x = age, y = resting_blood_pressure, color = heart_disease_cases)) + \n",
    "        geom_point(size = 4) +\n",
    "        labs(x = \"Age (years)\", y = \"Resting blood pressure (mmHg)\", color = \"Heart disease case\", title = \"Comparing age and resting blood pressure with heart disease\") +\n",
    "        scale_color_brewer(palette = \"Set2\") +\n",
    "        theme(text = element_text(size = 16))\n",
    "\n",
    "heart_disease_plot"
   ]
  },
  {
   "cell_type": "markdown",
   "id": "c1e70fd7-d006-4258-aa58-3e618d3980d0",
   "metadata": {},
   "source": [
    "*Figure 1: Plotting age vs resting blood pressure*"
   ]
  },
  {
   "cell_type": "markdown",
   "id": "636f7c06-0a48-4eed-9bd9-07967c4d9ee2",
   "metadata": {},
   "source": [
    "##### Explanation of Data Graph:\n",
    "From reading the graph there seems to be no real relationship between the variables blood pressure and heart disease. Patients diagnosed with heart disease are predominantly found within the age range of 45-60 hence, we can establish the connection between age and heart disease cases."
   ]
  },
  {
   "cell_type": "markdown",
   "id": "d1967f93-66a7-4c3d-96d8-f7a155417845",
   "metadata": {},
   "source": [
    "##### Forward Selection:\n",
    "We begin our analysis by finding the most accurate model and best predictors for heart disease, hence, our reason for performing the forward selection process. We first extract the column names, and then create an empty tibble to store the results."
   ]
  },
  {
   "cell_type": "code",
   "execution_count": 6,
   "id": "14e3a529-aaf7-4353-9251-90493d261213",
   "metadata": {
    "tags": [],
    "vscode": {
     "languageId": "r"
    }
   },
   "outputs": [],
   "source": [
    "names <- colnames(heart_disease_hungarian |> select(-heart_disease_cases))\n",
    "\n",
    "accuracies <- tibble(size = integer(), \n",
    "                     model_string = character(), \n",
    "                     accuracy = numeric())"
   ]
  },
  {
   "cell_type": "markdown",
   "id": "37fee5e0-0a47-4464-ad5d-e0c7905f82d8",
   "metadata": {},
   "source": [
    "Next, we create our model specification and perform our 5-fold cross-validation. To perform forward selection, we also must store the number of predictors, and store the selected predictors."
   ]
  },
  {
   "cell_type": "code",
   "execution_count": 7,
   "id": "225fb91d-b71a-4995-99d4-dd95277bf369",
   "metadata": {
    "tags": [],
    "vscode": {
     "languageId": "r"
    }
   },
   "outputs": [],
   "source": [
    "set.seed(27)\n",
    "knn_spec <- nearest_neighbor(weight_func = \"rectangular\", \n",
    "                             neighbors = tune()) |>\n",
    "     set_engine(\"kknn\") |>\n",
    "     set_mode(\"classification\")\n",
    "\n",
    "heart_disease_vfold <- vfold_cv(heart_disease_hungarian, v = 5, strata = heart_disease_cases)\n",
    "\n",
    "n_total <- length(names)\n",
    "\n",
    "selected <- c()"
   ]
  },
  {
   "cell_type": "markdown",
   "id": "87c0f9e6-4ac6-4cb6-b899-bac1e16aa37e",
   "metadata": {},
   "source": [
    "The following code is taken directly from the textbook as forward selection goes beyond our knowledge in DSCI100"
   ]
  },
  {
   "cell_type": "code",
   "execution_count": 8,
   "id": "01a10985-6847-44c0-a93f-99aeb9de6d94",
   "metadata": {
    "tags": [],
    "vscode": {
     "languageId": "r"
    }
   },
   "outputs": [
    {
     "ename": "ERROR",
     "evalue": "\u001b[1m\u001b[33mError\u001b[39m in `check_installs()`:\u001b[22m\n\u001b[33m!\u001b[39m Some package installs are required: \n\u001b[36m•\u001b[39m 'kknn', 'kknn'\n",
     "output_type": "error",
     "traceback": [
      "\u001b[1m\u001b[33mError\u001b[39m in `check_installs()`:\u001b[22m\n\u001b[33m!\u001b[39m Some package installs are required: \n\u001b[36m•\u001b[39m 'kknn', 'kknn'\nTraceback:\n",
      "1. summarize(filter(collect_metrics(tune_grid(add_model(add_recipe(workflow(), \n .     heart_disease_recipe), knn_spec), resamples = heart_disease_vfold, \n .     grid = 10)), .metric == \"accuracy\"), mx = max(mean))",
      "2. filter(collect_metrics(tune_grid(add_model(add_recipe(workflow(), \n .     heart_disease_recipe), knn_spec), resamples = heart_disease_vfold, \n .     grid = 10)), .metric == \"accuracy\")",
      "3. collect_metrics(tune_grid(add_model(add_recipe(workflow(), heart_disease_recipe), \n .     knn_spec), resamples = heart_disease_vfold, grid = 10))",
      "4. tune_grid(add_model(add_recipe(workflow(), heart_disease_recipe), \n .     knn_spec), resamples = heart_disease_vfold, grid = 10)",
      "5. tune_grid.workflow(add_model(add_recipe(workflow(), heart_disease_recipe), \n .     knn_spec), resamples = heart_disease_vfold, grid = 10)",
      "6. tune_grid_workflow(object, resamples = resamples, grid = grid, \n .     metrics = metrics, pset = param_info, control = control)",
      "7. check_workflow(workflow, pset = pset)",
      "8. check_installs(hardhat::extract_spec_parsnip(x))",
      "9. rlang::abort(c(\"Some package installs are required: \", paste0(\"'\", \n .     deps[!is_inst], \"'\", collapse = \", \")))",
      "10. signal_abort(cnd, .file)"
     ]
    }
   ],
   "source": [
    "set.seed(27)\n",
    "# for every size from 1 to the total number of predictors\n",
    "for (i in 1:n_total) {\n",
    "    # for every predictor still not added yet\n",
    "    accs <- list()\n",
    "    models <- list()\n",
    "    for (j in 1:length(names)) {\n",
    "        # create a model string for this combination of predictors\n",
    "        preds_new <- c(selected, names[[j]])\n",
    "        model_string <- paste(\"heart_disease_cases\", \"~\", paste(preds_new, collapse=\"+\"))\n",
    "\n",
    "        # create a recipe from the model string\n",
    "        heart_disease_recipe <- recipe(as.formula(model_string), \n",
    "                                data = heart_disease_hungarian) |>\n",
    "                          step_scale(all_predictors()) |>\n",
    "                          step_center(all_predictors())\n",
    "\n",
    "        # tune the KNN classifier with these predictors, \n",
    "        # and collect the accuracy for the best K\n",
    "        acc <- workflow() |>\n",
    "          add_recipe(heart_disease_recipe) |>\n",
    "          add_model(knn_spec) |>\n",
    "          tune_grid(resamples = heart_disease_vfold, grid = 10) |>\n",
    "          collect_metrics() |>\n",
    "          filter(.metric == \"accuracy\") |>\n",
    "          summarize(mx = max(mean))\n",
    "        acc <- acc$mx |> unlist()\n",
    "\n",
    "        # add this result to the dataframe\n",
    "        accs[[j]] <- acc\n",
    "        models[[j]] <- model_string\n",
    "    }\n",
    "    jstar <- which.max(unlist(accs))\n",
    "    accuracies <- accuracies |> \n",
    "      add_row(size = i, \n",
    "              model_string = models[[jstar]], \n",
    "              accuracy = accs[[jstar]])\n",
    "    selected <- c(selected, names[[jstar]])\n",
    "    names <- names[-jstar]\n",
    "}\n",
    "accuracies"
   ]
  },
  {
   "cell_type": "markdown",
   "id": "71a5f103-f209-488c-b61e-42af384a8cc9",
   "metadata": {},
   "source": [
    "*Table 4: Accuracy estimates produced using forward selection*"
   ]
  },
  {
   "cell_type": "code",
   "execution_count": null,
   "id": "c90b1772-dc2e-4104-b4eb-bdc7cde9a94f",
   "metadata": {
    "vscode": {
     "languageId": "r"
    }
   },
   "outputs": [],
   "source": [
    "accuracy_vs_k <- ggplot(accuracies, aes(x = size, y = accuracy)) +\n",
    "  geom_point() +\n",
    "  geom_line() +\n",
    "  labs(x = \"Number of Predictors\", y = \"Accuracy Estimate\", title = \"Estimated Accuracy vs Number of Predictors\") + \n",
    "  theme(text = element_text(size = 16))\n",
    "\n",
    "accuracy_vs_k"
   ]
  },
  {
   "cell_type": "markdown",
   "id": "6cfc4271-0b1a-4c26-9672-05bb4671fc8e",
   "metadata": {},
   "source": [
    "*Figure 2: Finding the optimal number of predictors*"
   ]
  },
  {
   "cell_type": "markdown",
   "id": "1c7ebc2e-71dc-42c0-a4b4-d7c095cbe24b",
   "metadata": {},
   "source": [
    "Notice that the number of predictors is estimated to be the most accurate at two predictors."
   ]
  },
  {
   "cell_type": "code",
   "execution_count": null,
   "id": "7fe01c2f-0cc4-475e-b887-32fd54ec4d06",
   "metadata": {
    "vscode": {
     "languageId": "r"
    }
   },
   "outputs": [],
   "source": [
    "options(repr.plot.width = 13, repr.plot.height = 7)\n",
    "\n",
    "heart_disease_plot_best <- heart_disease_hungarian |> \n",
    "    ggplot(aes(x = maximum_heart_rate_achieved, y = cholesterol, color = heart_disease_cases)) + \n",
    "        geom_point(size = 3) +\n",
    "        labs(x = \"Maximum Heart Rate Achieved\", y = \"Cholesterol (mg/dl)\", color = \"Heart disease case\", title = \"Associating maximum heart rate and cholesterol with Heart Disease\") +\n",
    "        scale_color_brewer(palette = \"Set2\") +\n",
    "        theme(text = element_text(size = 16))\n",
    "\n",
    "heart_disease_plot_best"
   ]
  },
  {
   "cell_type": "markdown",
   "id": "0196f850-e0b1-4e76-a93c-1e91d257189c",
   "metadata": {},
   "source": [
    "*Figure 3: Plotting the two highest accuracy estimate predictors*"
   ]
  },
  {
   "cell_type": "markdown",
   "id": "3f04a107-0ba7-425b-b454-80e3f2cee131",
   "metadata": {},
   "source": [
    "Now that we have found the best accuracy estimate predictors to use, we will begin our cross-validation by splitting our data into a training and testing set."
   ]
  },
  {
   "cell_type": "code",
   "execution_count": null,
   "id": "599d1198-2c4e-4819-9aec-5bac385eae56",
   "metadata": {
    "vscode": {
     "languageId": "r"
    }
   },
   "outputs": [],
   "source": [
    "set.seed(27)\n",
    "hd_keep <- select(heart_disease_hungarian, maximum_heart_rate_achieved, cholesterol,heart_disease_cases)\n",
    "\n",
    "hd_split <- initial_split(hd_keep, prop = 0.75, strata = heart_disease_cases)\n",
    "hd_train <- training(hd_split)   \n",
    "hd_test <- testing(hd_split)"
   ]
  },
  {
   "cell_type": "markdown",
   "id": "3eb286bf-e7b5-4818-a123-d8db8f2678d4",
   "metadata": {},
   "source": [
    "We use vfold to split the training data for cross validation and a recipe that specifies our target and predictor variables with scaling."
   ]
  },
  {
   "cell_type": "code",
   "execution_count": null,
   "id": "8d0cb6d0-0673-4570-914c-73eda7cdc895",
   "metadata": {},
   "outputs": [],
   "source": [
    "hd_vfold <- vfold_cv(hd_train, v = 5, strata = heart_disease_cases)\n",
    "\n",
    "hd_recipe <- recipe(heart_disease_cases ~ maximum_heart_rate_achieved + cholesterol, data = hd_train) |>\n",
    "              step_scale(all_predictors()) |>\n",
    "              step_center(all_predictors())"
   ]
  },
  {
   "cell_type": "markdown",
   "id": "616e6df5-af2b-4fa7-9a6c-a4518a0eedd2",
   "metadata": {},
   "source": [
    "We now create a nearest neighbors workflow using our previously created recipe and model to estimate our classifiers accuacy for selected K values."
   ]
  },
  {
   "cell_type": "code",
   "execution_count": null,
   "id": "87f60c45-c478-47bf-864b-b31c3e5d49b7",
   "metadata": {
    "vscode": {
     "languageId": "r"
    }
   },
   "outputs": [],
   "source": [
    "knn_spec <- nearest_neighbor(weight_func = \"rectangular\", neighbors = tune()) |>\n",
    "            set_engine(\"kknn\") |>\n",
    "            set_mode(\"classification\")\n",
    "\n",
    "knn_results <- workflow() |>\n",
    "                 add_recipe(hd_recipe) |>\n",
    "                 add_model(knn_spec) |>\n",
    "                 tune_grid(resamples = hd_vfold, grid = tibble(neighbors = c(2,3,4,5,6,7,8,9,10))) |>\n",
    "                 collect_metrics() |>\n",
    "                 filter(.metric == 'accuracy')\n",
    "\n",
    "knn_results"
   ]
  },
  {
   "cell_type": "markdown",
   "id": "e84b9d39-8ce9-4d5b-8625-48654d64e272",
   "metadata": {},
   "source": [
    "*Table 5: Workflow with recipe and model to find accuarcy estimates using different K values*"
   ]
  },
  {
   "cell_type": "markdown",
   "id": "89980179-9828-4049-a997-0413df243e6c",
   "metadata": {},
   "source": [
    "Next, we plot our k values against their estimated accuracies in order to choose the most optimal k value."
   ]
  },
  {
   "cell_type": "code",
   "execution_count": null,
   "id": "eca00f32-3cfc-4c40-b766-4fb5f0ee4829",
   "metadata": {
    "vscode": {
     "languageId": "r"
    }
   },
   "outputs": [],
   "source": [
    "cross_val_plot <- ggplot(knn_results, aes(x = neighbors, y = mean)) +\n",
    "                  geom_point() +\n",
    "                  geom_line() +\n",
    "                  labs(x = 'Neighbors', y = 'Accuracy Estimate', title = \"Accuracy estimate vs Number of neighbors\") +\n",
    "                  theme(text = element_text(size = 16))\n",
    "\n",
    "cross_val_plot"
   ]
  },
  {
   "cell_type": "markdown",
   "id": "3cec328f-37ed-4412-816f-6ea7fbdf5154",
   "metadata": {},
   "source": [
    "*Figure 4: Plotting neighbors vs accuracy estimate*"
   ]
  },
  {
   "cell_type": "markdown",
   "id": "6acdf9e5-49a6-4a6a-9770-d852ad0248a5",
   "metadata": {},
   "source": [
    "It appears the most optimal k value is k = 8. We also verify this by taking the results and sorting by mean. Now we can create a new model specification with the best K value and re-train the classifier using fit(). After we have created our new model, we can evaluate the estimated accuracy of the new classifier on the test set using predict()."
   ]
  },
  {
   "cell_type": "code",
   "execution_count": null,
   "id": "e93bc978-cded-40cf-a65d-2a74d43e6347",
   "metadata": {
    "vscode": {
     "languageId": "r"
    }
   },
   "outputs": [],
   "source": [
    "best_knn <- knn_results |>\n",
    "                arrange(mean) |>\n",
    "                tail(1) |>\n",
    "                select(neighbors)\n",
    "\n",
    "best_knn"
   ]
  },
  {
   "cell_type": "markdown",
   "id": "6089f45c-c360-4cbc-9b28-d569a63bc183",
   "metadata": {},
   "source": [
    "*Table 6: Best KNN neighbors*"
   ]
  },
  {
   "cell_type": "code",
   "execution_count": null,
   "id": "f60093a5-823c-422c-8f7c-b9bf164b67aa",
   "metadata": {
    "vscode": {
     "languageId": "r"
    }
   },
   "outputs": [],
   "source": [
    "hd_spec <- nearest_neighbor(weight_func = \"rectangular\", neighbors = 8) |>\n",
    "       set_engine(\"kknn\") |>\n",
    "       set_mode(\"classification\")\n",
    "\n",
    "hd_fit <- workflow() |>\n",
    "       add_recipe(hd_recipe) |>\n",
    "       add_model(hd_spec) |>\n",
    "       fit(data = hd_train)\n",
    "\n",
    "hd_predictions <- predict(hd_fit , hd_test) |>\n",
    "       bind_cols(hd_test)\n",
    "\n",
    "hd_acc <- hd_predictions |> \n",
    "    metrics(truth = heart_disease_cases, estimate = .pred_class) |> \n",
    "    select(.metric, .estimate) |> \n",
    "    head(1)\n",
    "\n",
    "hd_acc"
   ]
  },
  {
   "cell_type": "markdown",
   "id": "e2969d2a-147e-42b1-aa97-533d803f7062",
   "metadata": {},
   "source": [
    "*Table 7: Classification accuracy*"
   ]
  },
  {
   "cell_type": "code",
   "execution_count": null,
   "id": "db9faff9-b274-4128-85d7-9a261ecbf49d",
   "metadata": {
    "vscode": {
     "languageId": "r"
    }
   },
   "outputs": [],
   "source": [
    "hd_cm <- hd_predictions |> \n",
    "    conf_mat(truth = heart_disease_cases, estimate = .pred_class)\n",
    "\n",
    "hd_cm"
   ]
  },
  {
   "cell_type": "markdown",
   "id": "218b07b6-c7e3-492a-8977-9765c5edf8e9",
   "metadata": {},
   "source": [
    "*Table 8: Confusion matrix*"
   ]
  },
  {
   "cell_type": "markdown",
   "id": "3ec12379-9759-4bd0-9970-d9760ce0df72",
   "metadata": {},
   "source": [
    "Our model using the highest estimated accuracy predictors, and the highest estimated accuracy K value, yielded an accuracy estimate of 62%. In our confusion matrix, notice that 33 cases were predicted correctly as negative, while 10 were predicted correctly as positive for heart disease. 16 + 10 = 26 classifications however, were incorrectly predicted. Now, we will create a visualization from our classification results showing our correct predictions, and incorrect predictions. We can do this by creating a new column where .pred_class and herat_disease_cases are not equal, meaning the predicted class is different from the actual class. We can then visualize this by assigning color to the prediction result to see which observations were correctly or incorrectly classified"
   ]
  },
  {
   "cell_type": "code",
   "execution_count": null,
   "id": "af6ea1b4-6ba5-4c03-80af-040b6f1242cb",
   "metadata": {
    "vscode": {
     "languageId": "r"
    }
   },
   "outputs": [],
   "source": [
    "hd_predictions_result <- hd_predictions |> \n",
    "                    mutate(prediction_result = .pred_class == heart_disease_cases)\n",
    "\n",
    "hd_predictions_result"
   ]
  },
  {
   "cell_type": "markdown",
   "id": "de5834bb-00eb-4cec-a4ec-f7925cc64d8d",
   "metadata": {},
   "source": [
    "*Table 9: Classification results with prediction results column*"
   ]
  },
  {
   "cell_type": "code",
   "execution_count": null,
   "id": "98c295ab-b121-49cd-b0e0-8acc70d4937e",
   "metadata": {
    "vscode": {
     "languageId": "r"
    }
   },
   "outputs": [],
   "source": [
    "options(repr.plot.width = 13, repr.plot.height = 7)\n",
    "\n",
    "heart_disease_prediction_result_plot <- hd_predictions_result |> \n",
    "    ggplot(aes(x = maximum_heart_rate_achieved, y = cholesterol, shape = heart_disease_cases, color = prediction_result)) + \n",
    "        geom_point(size = 3) +\n",
    "        labs(x = \"Maximum Heart Rate Achieved\", y = \"Cholesterol (mg/dl)\", shape = \"Heart disease case\", color = \"Prediction result\", title = \"Prediction results for maximum heart rate vs cholesterol\") +\n",
    "        scale_color_brewer(palette = \"Set2\") +\n",
    "        theme(text = element_text(size = 16))\n",
    "\n",
    "heart_disease_prediction_result_plot"
   ]
  },
  {
   "cell_type": "markdown",
   "id": "c2dec859-f568-4a88-a457-490b507dab89",
   "metadata": {},
   "source": [
    "*Figure 5: Visualizing correct and incorrect observations from prediction results*"
   ]
  },
  {
   "cell_type": "markdown",
   "id": "715fa90c-a52a-496b-a7a0-2364581b6258",
   "metadata": {
    "tags": []
   },
   "source": [
    "### Discussion:\n",
    "##### What did we find?\n",
    "Based on our findings in the forward selection model, we identified the most accurate predictors for patients with heart disease as cholesterol and maximum heart rate, as shown in Plot 2 and Table 4. When these predictors were combined, the estimated accuracy was 68.19%. The other predictor values also showed high accuracies, with 68.16% for maximum heart rate, cholesterol, and age; 67.78% for maximum heart rate, cholesterol, age, and resting blood pressure; and the least accurate value being 66.73% for just maximum heart rate. However, when we compared our forward selection model to our final classification model, we observed a decrease in accuracy of nearly 5%, as seen in Table 4 and Table 6. These results could have been skewed based on the sheer size of the dataset, the patient distribution, and our restriction to using numerical variables only. In a real-world setting, our classifier may not be accurate enough to consistently identify patients at risk and those who are not. Nevertheless, our findings could prompt discussions with patients who have elevated levels of cholesterol and maximum heart rate and encourage them to undergo further testing.\n",
    "##### Is this what we expected?\n",
    "We anticipated finding strong associations between age and heart disease; however, this was not what we discovered. Instead, we observed that higher levels of cholesterol and maximum heart rate were strong predictors of heart disease. Surprisingly, age did not prove to be a predictor that accurately helped us predict whether someone had heart disease. Plot 1 revealed that older patients between the ages of 45 to 55 were the most common subjects to have heart disease, with some patients as young as 31 also testing positive. We also expected the accuracy of our model to remain relatively constant across all models, but we observed a decrease in accuracy from 68.19% to 62%, which is significant in both medical and analytical contexts, despite still remaining within the 60-70% range.\n",
    "##### What impacts do these findings have?\n",
    "Our findings can contribute to identifying patients who could benefit from further testing based on their cholesterol or maximum heart rate levels. However, our results also show that the variables we tested, including age, maximum heart rate, cholesterol, and resting blood pressure, have a weak relationship with heart disease and are not sufficient to identify patients at risk with high accuracy. The accuracies found in the analysis of this dataset are clearly not high enough to be used definitively, with its classification result being similar to the roll of a dice. This report in that sense, acts moreso, as a conversation starter more than anything. However, this research adds to the existing medical knowledge and advocates for prevention of this cardiovascular disease.\n",
    "##### What future questions does this lead to?\n",
    "Our findings raise several questions, such as: What other variables, besides cholesterol and maximum heart rate achieved, could predispose people to heart disease? How can we improve access to these tests for those at higher risk? What are the optimal levels of cholesterol and maximum heart rate that predisposed patients should aim to achieve? How can people use this new information to prevent heart disease?\n",
    "### References:\n",
    "- He, K., Chen, X., Shi, Z., Shi, S., Tian, Q., Hu, X., Song, R., Bai, K., Shi, W., Wang, J., Li, H., Ding, J., Geng, S., & Sheng, X. (2022). Relationship of resting heart rate and blood pressure with all-cause and cardiovascular disease mortality. Public Health, 208, 80–88. https://doi.org/10.1016/j.puhe.2022.03.020 \n",
    "- Moran, A. E., Tzong, K. Y., Forouzanfar, M. H., Roth, G. A., Mensah, G. A., Ezzati, M., Murray, C. J. L., & Naghavi, M. (2014). Variations in ischemic heart disease burden by age, country, and income: the global burden of diseases, injuries, and risk factors 2010 study. Global Heart, 9(1), 91. https://doi.org/10.1016/j.gheart.2013.12.007 \n",
    "- Park, C., Guallar, E., Linton, J. A., Lee, D.-C., Jang, Y., Son, D. K., Han, E.-J., Baek, S. J., Yun, Y. D., Jee, S. H., & Samet, J. M. (2013). Fasting glucose level and the risk of incident atherosclerotic cardiovascular diseases. Diabetes Care, 36(7), 1988–1993. https://doi.org/10.2337/dc12-1577 \n",
    "- Liou L, Kaptoge S (2020) Association of small, dense LDL-cholesterol concentration and lipoprotein particle characteristics with coronary heart disease: A systematic review and meta-analysis. PLoS ONE 15(11): e0241993. https://doi.org/10.1371/journal.pone.0241993\n",
    "- Han SH, Choi MS, Kim YM, Kim DM, Park HE, Hong JW, Kim SH, Shin YB, Lee BJ. Is Age-Predicted Maximal Heart Rate Applicable in Patients With Heart or Lung Disease? Ann Rehabil Med. 2022 Jun;46(3):133-141. doi: 10.5535/arm.21181. Epub 2022 Jun 30. PMID: 35793902; PMCID: PMC9263326. https://www.ncbi.nlm.nih.gov/pmc/articles/PMC9263326/"
   ]
  }
 ],
 "metadata": {
  "kernelspec": {
   "display_name": "R",
   "language": "R",
   "name": "ir"
  },
  "language_info": {
   "codemirror_mode": "r",
   "file_extension": ".r",
   "mimetype": "text/x-r-source",
   "name": "R",
   "pygments_lexer": "r",
   "version": "4.2.3"
  }
 },
 "nbformat": 4,
 "nbformat_minor": 5
}
