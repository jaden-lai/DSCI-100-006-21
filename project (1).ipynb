{
 "cells": [
  {
   "cell_type": "markdown",
   "id": "b336fa50-5302-4437-a25a-066940531ede",
   "metadata": {},
   "source": [
    "# Data Science Group Group Project Proposal 006-021\n",
    "#### Members: \n",
    "- Jaden Lai (79465795)\n",
    "- Percy Pham (70210562)\n",
    "- Sydney Trim (86059649)\n",
    "\n",
    "## Title: Heart Disease Data:\n",
    "### Introduction:\n",
    "Heart disease is a leading cause of death worldwide that is influenced by many variables including age, sex, blood pressure, diet, and many more. This project aims to identify patients most likely to experience heart problems (chest pain, heart disease) and the associations between them by analyzing age, sex, resting blood pressure, resting electrocardiographic results, and fasting blood sugar. To answer this question we will be analyzing and manipulating the Heat Disease Data Set from the Hungarian Institute of Cardiology. This dataset includes fourteen attributes. However, we have selected eight of them to use in our analysis as we seek an answer to our question.\n",
    "\n",
    "Question: Patient’s most likely to experience heart problems (chest pain, exercise induced angina, thalassemia, heart disease) using predictors, age, sex, resting blood pressure, resting electrocardiographic results, fasting blood sugar\n"
   ]
  },
  {
   "cell_type": "code",
   "execution_count": 2,
   "id": "279b6d09-e456-4782-acd4-172ec93c9757",
   "metadata": {},
   "outputs": [
    {
     "name": "stderr",
     "output_type": "stream",
     "text": [
      "── \u001b[1mAttaching packages\u001b[22m ─────────────────────────────────────── tidyverse 1.3.1 ──\n",
      "\n",
      "\u001b[32m✔\u001b[39m \u001b[34mggplot2\u001b[39m 3.3.6     \u001b[32m✔\u001b[39m \u001b[34mpurrr  \u001b[39m 0.3.4\n",
      "\u001b[32m✔\u001b[39m \u001b[34mtibble \u001b[39m 3.1.7     \u001b[32m✔\u001b[39m \u001b[34mdplyr  \u001b[39m 1.0.9\n",
      "\u001b[32m✔\u001b[39m \u001b[34mtidyr  \u001b[39m 1.2.0     \u001b[32m✔\u001b[39m \u001b[34mstringr\u001b[39m 1.4.0\n",
      "\u001b[32m✔\u001b[39m \u001b[34mreadr  \u001b[39m 2.1.2     \u001b[32m✔\u001b[39m \u001b[34mforcats\u001b[39m 0.5.1\n",
      "\n",
      "── \u001b[1mConflicts\u001b[22m ────────────────────────────────────────── tidyverse_conflicts() ──\n",
      "\u001b[31m✖\u001b[39m \u001b[34mdplyr\u001b[39m::\u001b[32mfilter()\u001b[39m masks \u001b[34mstats\u001b[39m::filter()\n",
      "\u001b[31m✖\u001b[39m \u001b[34mdplyr\u001b[39m::\u001b[32mlag()\u001b[39m    masks \u001b[34mstats\u001b[39m::lag()\n",
      "\n",
      "── \u001b[1mAttaching packages\u001b[22m ────────────────────────────────────── tidymodels 1.0.0 ──\n",
      "\n",
      "\u001b[32m✔\u001b[39m \u001b[34mbroom       \u001b[39m 1.0.0     \u001b[32m✔\u001b[39m \u001b[34mrsample     \u001b[39m 1.0.0\n",
      "\u001b[32m✔\u001b[39m \u001b[34mdials       \u001b[39m 1.0.0     \u001b[32m✔\u001b[39m \u001b[34mtune        \u001b[39m 1.0.0\n",
      "\u001b[32m✔\u001b[39m \u001b[34minfer       \u001b[39m 1.0.2     \u001b[32m✔\u001b[39m \u001b[34mworkflows   \u001b[39m 1.0.0\n",
      "\u001b[32m✔\u001b[39m \u001b[34mmodeldata   \u001b[39m 1.0.0     \u001b[32m✔\u001b[39m \u001b[34mworkflowsets\u001b[39m 1.0.0\n",
      "\u001b[32m✔\u001b[39m \u001b[34mparsnip     \u001b[39m 1.0.0     \u001b[32m✔\u001b[39m \u001b[34myardstick   \u001b[39m 1.0.0\n",
      "\u001b[32m✔\u001b[39m \u001b[34mrecipes     \u001b[39m 1.0.1     \n",
      "\n",
      "── \u001b[1mConflicts\u001b[22m ───────────────────────────────────────── tidymodels_conflicts() ──\n",
      "\u001b[31m✖\u001b[39m \u001b[34mscales\u001b[39m::\u001b[32mdiscard()\u001b[39m masks \u001b[34mpurrr\u001b[39m::discard()\n",
      "\u001b[31m✖\u001b[39m \u001b[34mdplyr\u001b[39m::\u001b[32mfilter()\u001b[39m   masks \u001b[34mstats\u001b[39m::filter()\n",
      "\u001b[31m✖\u001b[39m \u001b[34mrecipes\u001b[39m::\u001b[32mfixed()\u001b[39m  masks \u001b[34mstringr\u001b[39m::fixed()\n",
      "\u001b[31m✖\u001b[39m \u001b[34mdplyr\u001b[39m::\u001b[32mlag()\u001b[39m      masks \u001b[34mstats\u001b[39m::lag()\n",
      "\u001b[31m✖\u001b[39m \u001b[34myardstick\u001b[39m::\u001b[32mspec()\u001b[39m masks \u001b[34mreadr\u001b[39m::spec()\n",
      "\u001b[31m✖\u001b[39m \u001b[34mrecipes\u001b[39m::\u001b[32mstep()\u001b[39m   masks \u001b[34mstats\u001b[39m::step()\n",
      "\u001b[34m•\u001b[39m Use \u001b[32mtidymodels_prefer()\u001b[39m to resolve common conflicts.\n",
      "\n",
      "\n",
      "Attaching package: ‘testthat’\n",
      "\n",
      "\n",
      "The following object is masked from ‘package:rsample’:\n",
      "\n",
      "    matches\n",
      "\n",
      "\n",
      "The following object is masked from ‘package:dplyr’:\n",
      "\n",
      "    matches\n",
      "\n",
      "\n",
      "The following object is masked from ‘package:purrr’:\n",
      "\n",
      "    is_null\n",
      "\n",
      "\n",
      "The following objects are masked from ‘package:readr’:\n",
      "\n",
      "    edition_get, local_edition\n",
      "\n",
      "\n",
      "The following object is masked from ‘package:tidyr’:\n",
      "\n",
      "    matches\n",
      "\n",
      "\n",
      "\n",
      "Attaching package: ‘rlang’\n",
      "\n",
      "\n",
      "The following objects are masked from ‘package:testthat’:\n",
      "\n",
      "    is_false, is_null, is_true\n",
      "\n",
      "\n",
      "The following objects are masked from ‘package:purrr’:\n",
      "\n",
      "    %@%, as_function, flatten, flatten_chr, flatten_dbl, flatten_int,\n",
      "    flatten_lgl, flatten_raw, invoke, splice\n",
      "\n",
      "\n"
     ]
    }
   ],
   "source": [
    "library(tidyverse)\n",
    "library(repr)\n",
    "library(tidymodels)\n",
    "options(repr.matrix.max.rows = 6)\n",
    "source('tests.R')\n",
    "source('cleanup.R')"
   ]
  },
  {
   "cell_type": "markdown",
   "id": "304e04df-2202-4c13-b1f3-57a83da68ca0",
   "metadata": {},
   "source": [
    "##### Downloading the data, cleaning the table"
   ]
  },
  {
   "cell_type": "code",
   "execution_count": 117,
   "id": "9485b818-23a5-4e78-a08a-10b5c98530df",
   "metadata": {},
   "outputs": [
    {
     "name": "stderr",
     "output_type": "stream",
     "text": [
      "\u001b[1mRows: \u001b[22m\u001b[34m294\u001b[39m \u001b[1mColumns: \u001b[22m\u001b[34m14\u001b[39m\n",
      "\u001b[36m──\u001b[39m \u001b[1mColumn specification\u001b[22m \u001b[36m────────────────────────────────────────────────────────\u001b[39m\n",
      "\u001b[1mDelimiter:\u001b[22m \",\"\n",
      "\u001b[31mchr\u001b[39m (9): X4, X5, X6, X7, X8, X9, X11, X12, X13\n",
      "\u001b[32mdbl\u001b[39m (5): X1, X2, X3, X10, X14\n",
      "\n",
      "\u001b[36mℹ\u001b[39m Use `spec()` to retrieve the full column specification for this data.\n",
      "\u001b[36mℹ\u001b[39m Specify the column types or set `show_col_types = FALSE` to quiet this message.\n",
      "Warning message in mask$eval_all_mutate(quo):\n",
      "“NAs introduced by coercion”\n",
      "\u001b[1m\u001b[22m`summarise()` has grouped output by 'age'. You can override using the `.groups`\n",
      "argument.\n"
     ]
    },
    {
     "data": {
      "text/html": [
       "<table class=\"dataframe\">\n",
       "<caption>A grouped_df: 5 × 7</caption>\n",
       "<thead>\n",
       "\t<tr><th scope=col>age</th><th scope=col>sex</th><th scope=col>cp</th><th scope=col>trestbps</th><th scope=col>fbs</th><th scope=col>restecg</th><th scope=col>num</th></tr>\n",
       "\t<tr><th scope=col>&lt;dbl&gt;</th><th scope=col>&lt;chr&gt;</th><th scope=col>&lt;dbl&gt;</th><th scope=col>&lt;dbl&gt;</th><th scope=col>&lt;dbl&gt;</th><th scope=col>&lt;dbl&gt;</th><th scope=col>&lt;dbl&gt;</th></tr>\n",
       "</thead>\n",
       "<tbody>\n",
       "\t<tr><td>28</td><td>Male  </td><td>2</td><td>130</td><td>130</td><td>130</td><td>0</td></tr>\n",
       "\t<tr><td>29</td><td>Male  </td><td>4</td><td>260</td><td>260</td><td>260</td><td>0</td></tr>\n",
       "\t<tr><td>30</td><td>Female</td><td>1</td><td>170</td><td>170</td><td>170</td><td>0</td></tr>\n",
       "\t<tr><td>31</td><td>Female</td><td>2</td><td>100</td><td>100</td><td>100</td><td>0</td></tr>\n",
       "\t<tr><td>31</td><td>Male  </td><td>4</td><td>120</td><td>120</td><td>120</td><td>1</td></tr>\n",
       "</tbody>\n",
       "</table>\n"
      ],
      "text/latex": [
       "A grouped\\_df: 5 × 7\n",
       "\\begin{tabular}{lllllll}\n",
       " age & sex & cp & trestbps & fbs & restecg & num\\\\\n",
       " <dbl> & <chr> & <dbl> & <dbl> & <dbl> & <dbl> & <dbl>\\\\\n",
       "\\hline\n",
       "\t 28 & Male   & 2 & 130 & 130 & 130 & 0\\\\\n",
       "\t 29 & Male   & 4 & 260 & 260 & 260 & 0\\\\\n",
       "\t 30 & Female & 1 & 170 & 170 & 170 & 0\\\\\n",
       "\t 31 & Female & 2 & 100 & 100 & 100 & 0\\\\\n",
       "\t 31 & Male   & 4 & 120 & 120 & 120 & 1\\\\\n",
       "\\end{tabular}\n"
      ],
      "text/markdown": [
       "\n",
       "A grouped_df: 5 × 7\n",
       "\n",
       "| age &lt;dbl&gt; | sex &lt;chr&gt; | cp &lt;dbl&gt; | trestbps &lt;dbl&gt; | fbs &lt;dbl&gt; | restecg &lt;dbl&gt; | num &lt;dbl&gt; |\n",
       "|---|---|---|---|---|---|---|\n",
       "| 28 | Male   | 2 | 130 | 130 | 130 | 0 |\n",
       "| 29 | Male   | 4 | 260 | 260 | 260 | 0 |\n",
       "| 30 | Female | 1 | 170 | 170 | 170 | 0 |\n",
       "| 31 | Female | 2 | 100 | 100 | 100 | 0 |\n",
       "| 31 | Male   | 4 | 120 | 120 | 120 | 1 |\n",
       "\n"
      ],
      "text/plain": [
       "  age sex    cp trestbps fbs restecg num\n",
       "1 28  Male   2  130      130 130     0  \n",
       "2 29  Male   4  260      260 260     0  \n",
       "3 30  Female 1  170      170 170     0  \n",
       "4 31  Female 2  100      100 100     0  \n",
       "5 31  Male   4  120      120 120     1  "
      ]
     },
     "metadata": {},
     "output_type": "display_data"
    },
    {
     "data": {
      "text/html": [
       "<table class=\"dataframe\">\n",
       "<caption>A grouped_df: 68 × 7</caption>\n",
       "<thead>\n",
       "\t<tr><th scope=col>age</th><th scope=col>sex</th><th scope=col>cp</th><th scope=col>trestbps</th><th scope=col>fbs</th><th scope=col>restecg</th><th scope=col>num</th></tr>\n",
       "\t<tr><th scope=col>&lt;dbl&gt;</th><th scope=col>&lt;chr&gt;</th><th scope=col>&lt;dbl&gt;</th><th scope=col>&lt;dbl&gt;</th><th scope=col>&lt;dbl&gt;</th><th scope=col>&lt;dbl&gt;</th><th scope=col>&lt;dbl&gt;</th></tr>\n",
       "</thead>\n",
       "<tbody>\n",
       "\t<tr><td>28</td><td>Male  </td><td>2</td><td>130</td><td>130</td><td>130</td><td>0</td></tr>\n",
       "\t<tr><td>29</td><td>Male  </td><td>4</td><td>260</td><td>260</td><td>260</td><td>0</td></tr>\n",
       "\t<tr><td>30</td><td>Female</td><td>1</td><td>170</td><td>170</td><td>170</td><td>0</td></tr>\n",
       "\t<tr><td>⋮</td><td>⋮</td><td>⋮</td><td>⋮</td><td>⋮</td><td>⋮</td><td>⋮</td></tr>\n",
       "\t<tr><td>63</td><td>Male</td><td> 4</td><td>150</td><td>150</td><td>150</td><td>1</td></tr>\n",
       "\t<tr><td>65</td><td>Male</td><td>12</td><td>440</td><td>440</td><td>440</td><td>3</td></tr>\n",
       "\t<tr><td>66</td><td>Male</td><td> 4</td><td>140</td><td>140</td><td>140</td><td>1</td></tr>\n",
       "</tbody>\n",
       "</table>\n"
      ],
      "text/latex": [
       "A grouped\\_df: 68 × 7\n",
       "\\begin{tabular}{lllllll}\n",
       " age & sex & cp & trestbps & fbs & restecg & num\\\\\n",
       " <dbl> & <chr> & <dbl> & <dbl> & <dbl> & <dbl> & <dbl>\\\\\n",
       "\\hline\n",
       "\t 28 & Male   & 2 & 130 & 130 & 130 & 0\\\\\n",
       "\t 29 & Male   & 4 & 260 & 260 & 260 & 0\\\\\n",
       "\t 30 & Female & 1 & 170 & 170 & 170 & 0\\\\\n",
       "\t ⋮ & ⋮ & ⋮ & ⋮ & ⋮ & ⋮ & ⋮\\\\\n",
       "\t 63 & Male &  4 & 150 & 150 & 150 & 1\\\\\n",
       "\t 65 & Male & 12 & 440 & 440 & 440 & 3\\\\\n",
       "\t 66 & Male &  4 & 140 & 140 & 140 & 1\\\\\n",
       "\\end{tabular}\n"
      ],
      "text/markdown": [
       "\n",
       "A grouped_df: 68 × 7\n",
       "\n",
       "| age &lt;dbl&gt; | sex &lt;chr&gt; | cp &lt;dbl&gt; | trestbps &lt;dbl&gt; | fbs &lt;dbl&gt; | restecg &lt;dbl&gt; | num &lt;dbl&gt; |\n",
       "|---|---|---|---|---|---|---|\n",
       "| 28 | Male   | 2 | 130 | 130 | 130 | 0 |\n",
       "| 29 | Male   | 4 | 260 | 260 | 260 | 0 |\n",
       "| 30 | Female | 1 | 170 | 170 | 170 | 0 |\n",
       "| ⋮ | ⋮ | ⋮ | ⋮ | ⋮ | ⋮ | ⋮ |\n",
       "| 63 | Male |  4 | 150 | 150 | 150 | 1 |\n",
       "| 65 | Male | 12 | 440 | 440 | 440 | 3 |\n",
       "| 66 | Male |  4 | 140 | 140 | 140 | 1 |\n",
       "\n"
      ],
      "text/plain": [
       "   age sex    cp trestbps fbs restecg num\n",
       "1  28  Male   2  130      130 130     0  \n",
       "2  29  Male   4  260      260 260     0  \n",
       "3  30  Female 1  170      170 170     0  \n",
       "⋮  ⋮   ⋮      ⋮  ⋮        ⋮   ⋮       ⋮  \n",
       "66 63  Male    4 150      150 150     1  \n",
       "67 65  Male   12 440      440 440     3  \n",
       "68 66  Male    4 140      140 140     1  "
      ]
     },
     "metadata": {},
     "output_type": "display_data"
    }
   ],
   "source": [
    "# Downloading the data, cleaning the table\n",
    "download.file(\"https://archive.ics.uci.edu/ml/machine-learning-databases/heart-disease/processed.hungarian.data\", \"data/project_.csv\")\n",
    "heart_disease_hungarian <- read_csv(\"data/project_.csv\", col_names = FALSE)\n",
    "colnames(heart_disease_hungarian) <- c(\"age\", \"sex\", \"cp\", \"trestbps\", \"chol\", \"fbs\", \"restecg\", \"tha;ach\", \"exang\", \"oldpeak\", \"slope\", \"ca\", \"thal\", \"num\") \n",
    "heart_disease_hungarian <- heart_disease_hungarian |>\n",
    "            select(age, sex, cp, trestbps, fbs, restecg, num) |> \n",
    "            mutate(sex = recode(sex, \"1\" = \"Male\", \"0\" = \"Female\")) |>\n",
    "            mutate(trestbps = as.numeric(trestbps),\n",
    "                   fbs = as.numeric(trestbps),\n",
    "                  restecg = as.numeric(trestbps)) |>\n",
    "           group_by(age,sex) |>\n",
    "           summarize(cp = sum(cp, na.rm = TRUE),\n",
    "                trestbps = sum(trestbps, na.rm = TRUE),\n",
    "                fbs = sum(fbs, na.rm = TRUE),\n",
    "                restecg = sum(restecg, na.rm = TRUE),\n",
    "                num = sum(num, na.rm = TRUE)) \n",
    "\n",
    "head(heart_disease_hungarian, 5)\n",
    "heart_disease_hungarian"
   ]
  },
  {
   "cell_type": "markdown",
   "id": "e058519d-0118-4bb2-b423-68950974f968",
   "metadata": {},
   "source": [
    "##### Training and testing"
   ]
  },
  {
   "cell_type": "code",
   "execution_count": 118,
   "id": "140dacec-2471-44ac-9528-ba5e8a626529",
   "metadata": {},
   "outputs": [
    {
     "name": "stderr",
     "output_type": "stream",
     "text": [
      "Warning message:\n",
      "“The number of observations in each quantile is below the recommended threshold of 20.\n",
      "\u001b[36m•\u001b[39m Stratification will use 3 breaks instead.”\n"
     ]
    },
    {
     "data": {
      "text/html": [
       "<table class=\"dataframe\">\n",
       "<caption>A grouped_df: 50 × 7</caption>\n",
       "<thead>\n",
       "\t<tr><th scope=col>age</th><th scope=col>sex</th><th scope=col>cp</th><th scope=col>trestbps</th><th scope=col>fbs</th><th scope=col>restecg</th><th scope=col>num</th></tr>\n",
       "\t<tr><th scope=col>&lt;dbl&gt;</th><th scope=col>&lt;chr&gt;</th><th scope=col>&lt;dbl&gt;</th><th scope=col>&lt;dbl&gt;</th><th scope=col>&lt;dbl&gt;</th><th scope=col>&lt;dbl&gt;</th><th scope=col>&lt;dbl&gt;</th></tr>\n",
       "</thead>\n",
       "<tbody>\n",
       "\t<tr><td>28</td><td>Male  </td><td>2</td><td>130</td><td>130</td><td>130</td><td>0</td></tr>\n",
       "\t<tr><td>30</td><td>Female</td><td>1</td><td>170</td><td>170</td><td>170</td><td>0</td></tr>\n",
       "\t<tr><td>31</td><td>Male  </td><td>4</td><td>120</td><td>120</td><td>120</td><td>1</td></tr>\n",
       "\t<tr><td>⋮</td><td>⋮</td><td>⋮</td><td>⋮</td><td>⋮</td><td>⋮</td><td>⋮</td></tr>\n",
       "\t<tr><td>58</td><td>Male</td><td>23</td><td>1091</td><td>1091</td><td>1091</td><td>4</td></tr>\n",
       "\t<tr><td>59</td><td>Male</td><td>20</td><td> 860</td><td> 860</td><td> 860</td><td>2</td></tr>\n",
       "\t<tr><td>65</td><td>Male</td><td>12</td><td> 440</td><td> 440</td><td> 440</td><td>3</td></tr>\n",
       "</tbody>\n",
       "</table>\n"
      ],
      "text/latex": [
       "A grouped\\_df: 50 × 7\n",
       "\\begin{tabular}{lllllll}\n",
       " age & sex & cp & trestbps & fbs & restecg & num\\\\\n",
       " <dbl> & <chr> & <dbl> & <dbl> & <dbl> & <dbl> & <dbl>\\\\\n",
       "\\hline\n",
       "\t 28 & Male   & 2 & 130 & 130 & 130 & 0\\\\\n",
       "\t 30 & Female & 1 & 170 & 170 & 170 & 0\\\\\n",
       "\t 31 & Male   & 4 & 120 & 120 & 120 & 1\\\\\n",
       "\t ⋮ & ⋮ & ⋮ & ⋮ & ⋮ & ⋮ & ⋮\\\\\n",
       "\t 58 & Male & 23 & 1091 & 1091 & 1091 & 4\\\\\n",
       "\t 59 & Male & 20 &  860 &  860 &  860 & 2\\\\\n",
       "\t 65 & Male & 12 &  440 &  440 &  440 & 3\\\\\n",
       "\\end{tabular}\n"
      ],
      "text/markdown": [
       "\n",
       "A grouped_df: 50 × 7\n",
       "\n",
       "| age &lt;dbl&gt; | sex &lt;chr&gt; | cp &lt;dbl&gt; | trestbps &lt;dbl&gt; | fbs &lt;dbl&gt; | restecg &lt;dbl&gt; | num &lt;dbl&gt; |\n",
       "|---|---|---|---|---|---|---|\n",
       "| 28 | Male   | 2 | 130 | 130 | 130 | 0 |\n",
       "| 30 | Female | 1 | 170 | 170 | 170 | 0 |\n",
       "| 31 | Male   | 4 | 120 | 120 | 120 | 1 |\n",
       "| ⋮ | ⋮ | ⋮ | ⋮ | ⋮ | ⋮ | ⋮ |\n",
       "| 58 | Male | 23 | 1091 | 1091 | 1091 | 4 |\n",
       "| 59 | Male | 20 |  860 |  860 |  860 | 2 |\n",
       "| 65 | Male | 12 |  440 |  440 |  440 | 3 |\n",
       "\n"
      ],
      "text/plain": [
       "   age sex    cp trestbps fbs  restecg num\n",
       "1  28  Male   2  130      130  130     0  \n",
       "2  30  Female 1  170      170  170     0  \n",
       "3  31  Male   4  120      120  120     1  \n",
       "⋮  ⋮   ⋮      ⋮  ⋮        ⋮    ⋮       ⋮  \n",
       "48 58  Male   23 1091     1091 1091    4  \n",
       "49 59  Male   20  860      860  860    2  \n",
       "50 65  Male   12  440      440  440    3  "
      ]
     },
     "metadata": {},
     "output_type": "display_data"
    },
    {
     "data": {
      "text/html": [
       "<table class=\"dataframe\">\n",
       "<caption>A grouped_df: 18 × 7</caption>\n",
       "<thead>\n",
       "\t<tr><th scope=col>age</th><th scope=col>sex</th><th scope=col>cp</th><th scope=col>trestbps</th><th scope=col>fbs</th><th scope=col>restecg</th><th scope=col>num</th></tr>\n",
       "\t<tr><th scope=col>&lt;dbl&gt;</th><th scope=col>&lt;chr&gt;</th><th scope=col>&lt;dbl&gt;</th><th scope=col>&lt;dbl&gt;</th><th scope=col>&lt;dbl&gt;</th><th scope=col>&lt;dbl&gt;</th><th scope=col>&lt;dbl&gt;</th></tr>\n",
       "</thead>\n",
       "<tbody>\n",
       "\t<tr><td>29</td><td>Male  </td><td>4</td><td>260</td><td>260</td><td>260</td><td>0</td></tr>\n",
       "\t<tr><td>31</td><td>Female</td><td>2</td><td>100</td><td>100</td><td>100</td><td>0</td></tr>\n",
       "\t<tr><td>32</td><td>Female</td><td>2</td><td>105</td><td>105</td><td>105</td><td>0</td></tr>\n",
       "\t<tr><td>⋮</td><td>⋮</td><td>⋮</td><td>⋮</td><td>⋮</td><td>⋮</td><td>⋮</td></tr>\n",
       "\t<tr><td>57</td><td>Male</td><td>8</td><td>430</td><td>430</td><td>430</td><td>2</td></tr>\n",
       "\t<tr><td>61</td><td>Male</td><td>4</td><td>125</td><td>125</td><td>125</td><td>0</td></tr>\n",
       "\t<tr><td>66</td><td>Male</td><td>4</td><td>140</td><td>140</td><td>140</td><td>1</td></tr>\n",
       "</tbody>\n",
       "</table>\n"
      ],
      "text/latex": [
       "A grouped\\_df: 18 × 7\n",
       "\\begin{tabular}{lllllll}\n",
       " age & sex & cp & trestbps & fbs & restecg & num\\\\\n",
       " <dbl> & <chr> & <dbl> & <dbl> & <dbl> & <dbl> & <dbl>\\\\\n",
       "\\hline\n",
       "\t 29 & Male   & 4 & 260 & 260 & 260 & 0\\\\\n",
       "\t 31 & Female & 2 & 100 & 100 & 100 & 0\\\\\n",
       "\t 32 & Female & 2 & 105 & 105 & 105 & 0\\\\\n",
       "\t ⋮ & ⋮ & ⋮ & ⋮ & ⋮ & ⋮ & ⋮\\\\\n",
       "\t 57 & Male & 8 & 430 & 430 & 430 & 2\\\\\n",
       "\t 61 & Male & 4 & 125 & 125 & 125 & 0\\\\\n",
       "\t 66 & Male & 4 & 140 & 140 & 140 & 1\\\\\n",
       "\\end{tabular}\n"
      ],
      "text/markdown": [
       "\n",
       "A grouped_df: 18 × 7\n",
       "\n",
       "| age &lt;dbl&gt; | sex &lt;chr&gt; | cp &lt;dbl&gt; | trestbps &lt;dbl&gt; | fbs &lt;dbl&gt; | restecg &lt;dbl&gt; | num &lt;dbl&gt; |\n",
       "|---|---|---|---|---|---|---|\n",
       "| 29 | Male   | 4 | 260 | 260 | 260 | 0 |\n",
       "| 31 | Female | 2 | 100 | 100 | 100 | 0 |\n",
       "| 32 | Female | 2 | 105 | 105 | 105 | 0 |\n",
       "| ⋮ | ⋮ | ⋮ | ⋮ | ⋮ | ⋮ | ⋮ |\n",
       "| 57 | Male | 8 | 430 | 430 | 430 | 2 |\n",
       "| 61 | Male | 4 | 125 | 125 | 125 | 0 |\n",
       "| 66 | Male | 4 | 140 | 140 | 140 | 1 |\n",
       "\n"
      ],
      "text/plain": [
       "   age sex    cp trestbps fbs restecg num\n",
       "1  29  Male   4  260      260 260     0  \n",
       "2  31  Female 2  100      100 100     0  \n",
       "3  32  Female 2  105      105 105     0  \n",
       "⋮  ⋮   ⋮      ⋮  ⋮        ⋮   ⋮       ⋮  \n",
       "16 57  Male   8  430      430 430     2  \n",
       "17 61  Male   4  125      125 125     0  \n",
       "18 66  Male   4  140      140 140     1  "
      ]
     },
     "metadata": {},
     "output_type": "display_data"
    }
   ],
   "source": [
    "hd_split <- initial_split(heart_disease_hungarian, prop = 0.75, strata = num)  \n",
    "hd_train <- training(hd_split)   \n",
    "hd_test <- testing(hd_split)\n",
    "\n",
    "hd_train\n",
    "hd_test"
   ]
  },
  {
   "cell_type": "code",
   "execution_count": 122,
   "id": "6d31f615-67e1-437a-acdc-5580269b76f2",
   "metadata": {},
   "outputs": [
    {
     "data": {
      "image/png": "[encoded data removed]",
      "text/plain": [
       "plot without title"
      ]
     },
     "metadata": {
      "image/png": {
       "height": 420,
       "width": 420
      }
     },
     "output_type": "display_data"
    }
   ],
   "source": [
    "# your code here\n",
    "heart_disease_plot <- hd_train |>\n",
    "    ggplot(aes(x = age, y = num, color = sex)) + \n",
    "        geom_point() +\n",
    "        labs(x = \"Age\", y = \"Heart disease cases\", color = \"Gender\", title = \"How age and gender affect heart disease cases\")\n",
    "\n",
    "heart_disease_plot"
   ]
  },
  {
   "cell_type": "markdown",
   "id": "caf83dae-0476-45bc-92ff-36403e6f98e8",
   "metadata": {},
   "source": [
    "# Expected Outcomes and Significance:\n",
    "\n",
    "## What do we expect to find: \n",
    "We expect to find a correlation between heart problems like chest pain and heart disease linked to other variables such as age, sex, resting blood pressure, resting ekg, and fasting blood pressure. From our findings we will be able to see the main variable that leads to heart diseases. We can also expect to see certain variables be more of an issue than expected, for example age and resting blood pressure if to be an expected variable, but sex is surprising as one gender is more at risk compared to the other. \n",
    "\n",
    "## What impact do such findings have:\n",
    "The data we observe from this project will have an impact on how we will be able to find people or populations most at risk for heart disease, and they can get tested earlier for early warning signs.\n",
    "\n",
    "## What future questions could this lead to: \n",
    "Future questions that this could lead to is; if a certain variable is heavily correlated to heart disease how can we prevent it within the population, especially if the community doesn't necessarily have the resources for prevention. Also, what other variables other than the ones we found could lead to being predisposed for heart diseases. How much control do patients have over their risk for heart disease and how can they prevent these variables.\n",
    "\n",
    "# References\n",
    "- Ashley, E. A., Raxwal, V., & Froelicher, V. (2001). An evidence-based review of the resting electrocardiogram as a screening technique for heart disease. Progress in Cardiovascular Diseases, 44(1), 55–67. https://doi.org/10.1053/pcad.2001.24683\n",
    "- He, K., Chen, X., Shi, Z., Shi, S., Tian, Q., Hu, X., Song, R., Bai, K., Shi, W., Wang, J., Li, H., Ding, J., Geng, S., & Sheng, X. (2022). Relationship of resting heart rate and blood pressure with all-cause and cardiovascular disease mortality. Public Health, 208, 80–88. https://doi.org/10.1016/j.puhe.2022.03.020 \n",
    "- Maas, A. H. E. M., & Appelman, Y. E. A. (2010). Gender differences in coronary heart disease. Netherlands Heart Journal, 18(12), 598–603. https://doi.org/10.1007/s12471-010-0841-y\n",
    "- Moran, A. E., Tzong, K. Y., Forouzanfar, M. H., Roth, G. A., Mensah, G. A., Ezzati, M., Murray, C. J. L., & Naghavi, M. (2014). Variations in ischemic heart disease burden by age, country, and income: the global burden of diseases, injuries, and risk factors 2010 study. Global Heart, 9(1), 91. https://doi.org/10.1016/j.gheart.2013.12.007 \n",
    "- Park, C., Guallar, E., Linton, J. A., Lee, D.-C., Jang, Y., Son, D. K., Han, E.-J., Baek, S. J., Yun, Y. D., Jee, S. H., & Samet, J. M. (2013). Fasting glucose level and the risk of incident atherosclerotic cardiovascular diseases. Diabetes Care, 36(7), 1988–1993. https://doi.org/10.2337/dc12-1577 "
   ]
  },
  {
   "cell_type": "code",
   "execution_count": null,
   "id": "d6ad8165-e439-45fb-a31b-c7dde6b47cdd",
   "metadata": {},
   "outputs": [],
   "source": []
  }
 ],
 "metadata": {
  "kernelspec": {
   "display_name": "R",
   "language": "R",
   "name": "ir"
  },
  "language_info": {
   "codemirror_mode": "r",
   "file_extension": ".r",
   "mimetype": "text/x-r-source",
   "name": "R",
   "pygments_lexer": "r",
   "version": "4.1.3"
  }
 },
 "nbformat": 4,
 "nbformat_minor": 5
}
