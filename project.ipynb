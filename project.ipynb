{
 "cells": [
  {
   "cell_type": "markdown",
   "id": "b336fa50-5302-4437-a25a-066940531ede",
   "metadata": {},
   "source": [
    "# Data Science Group Group Project Proposal 006-021\n",
    "## Heart Disease Hungarian Data:\n",
    "##### Members: \n",
    "- Jaden Lai (79465795)\n",
    "- Percy Pham (70210562)\n",
    "- Sydney Trim (86059649)\n",
    "\n",
    "#### Introduction:\n",
    "Heart disease is a leading cause of death worldwide associated with many variables. This project aims to identify patients most likely to experience heart problems by analyzing age, sex, resting blood pressure, resting electrocardiographic results, and fasting blood sugar. To answer this question we will be analyzing the Heart Disease Data Set from the Hungarian Institute of Cardiology. This dataset provides fourteen attributes. However, we have selected eight of them to find an answer to our question.\n",
    "\n",
    "#### Question: \n",
    "What patients are most likely to experience heart problems (chest pain, heart disease) using predictors of age, sex, resting blood pressure, resting electrocardiographic results, and fasting blood sugar?"
   ]
  },
  {
   "cell_type": "code",
   "execution_count": 1,
   "id": "279b6d09-e456-4782-acd4-172ec93c9757",
   "metadata": {},
   "outputs": [
    {
     "name": "stderr",
     "output_type": "stream",
     "text": [
      "── \u001b[1mAttaching packages\u001b[22m ─────────────────────────────────────── tidyverse 1.3.1 ──\n",
      "\n",
      "\u001b[32m✔\u001b[39m \u001b[34mggplot2\u001b[39m 3.3.6     \u001b[32m✔\u001b[39m \u001b[34mpurrr  \u001b[39m 0.3.4\n",
      "\u001b[32m✔\u001b[39m \u001b[34mtibble \u001b[39m 3.1.7     \u001b[32m✔\u001b[39m \u001b[34mdplyr  \u001b[39m 1.0.9\n",
      "\u001b[32m✔\u001b[39m \u001b[34mtidyr  \u001b[39m 1.2.0     \u001b[32m✔\u001b[39m \u001b[34mstringr\u001b[39m 1.4.0\n",
      "\u001b[32m✔\u001b[39m \u001b[34mreadr  \u001b[39m 2.1.2     \u001b[32m✔\u001b[39m \u001b[34mforcats\u001b[39m 0.5.1\n",
      "\n",
      "── \u001b[1mConflicts\u001b[22m ────────────────────────────────────────── tidyverse_conflicts() ──\n",
      "\u001b[31m✖\u001b[39m \u001b[34mdplyr\u001b[39m::\u001b[32mfilter()\u001b[39m masks \u001b[34mstats\u001b[39m::filter()\n",
      "\u001b[31m✖\u001b[39m \u001b[34mdplyr\u001b[39m::\u001b[32mlag()\u001b[39m    masks \u001b[34mstats\u001b[39m::lag()\n",
      "\n",
      "── \u001b[1mAttaching packages\u001b[22m ────────────────────────────────────── tidymodels 1.0.0 ──\n",
      "\n",
      "\u001b[32m✔\u001b[39m \u001b[34mbroom       \u001b[39m 1.0.0     \u001b[32m✔\u001b[39m \u001b[34mrsample     \u001b[39m 1.0.0\n",
      "\u001b[32m✔\u001b[39m \u001b[34mdials       \u001b[39m 1.0.0     \u001b[32m✔\u001b[39m \u001b[34mtune        \u001b[39m 1.0.0\n",
      "\u001b[32m✔\u001b[39m \u001b[34minfer       \u001b[39m 1.0.2     \u001b[32m✔\u001b[39m \u001b[34mworkflows   \u001b[39m 1.0.0\n",
      "\u001b[32m✔\u001b[39m \u001b[34mmodeldata   \u001b[39m 1.0.0     \u001b[32m✔\u001b[39m \u001b[34mworkflowsets\u001b[39m 1.0.0\n",
      "\u001b[32m✔\u001b[39m \u001b[34mparsnip     \u001b[39m 1.0.0     \u001b[32m✔\u001b[39m \u001b[34myardstick   \u001b[39m 1.0.0\n",
      "\u001b[32m✔\u001b[39m \u001b[34mrecipes     \u001b[39m 1.0.1     \n",
      "\n",
      "── \u001b[1mConflicts\u001b[22m ───────────────────────────────────────── tidymodels_conflicts() ──\n",
      "\u001b[31m✖\u001b[39m \u001b[34mscales\u001b[39m::\u001b[32mdiscard()\u001b[39m masks \u001b[34mpurrr\u001b[39m::discard()\n",
      "\u001b[31m✖\u001b[39m \u001b[34mdplyr\u001b[39m::\u001b[32mfilter()\u001b[39m   masks \u001b[34mstats\u001b[39m::filter()\n",
      "\u001b[31m✖\u001b[39m \u001b[34mrecipes\u001b[39m::\u001b[32mfixed()\u001b[39m  masks \u001b[34mstringr\u001b[39m::fixed()\n",
      "\u001b[31m✖\u001b[39m \u001b[34mdplyr\u001b[39m::\u001b[32mlag()\u001b[39m      masks \u001b[34mstats\u001b[39m::lag()\n",
      "\u001b[31m✖\u001b[39m \u001b[34myardstick\u001b[39m::\u001b[32mspec()\u001b[39m masks \u001b[34mreadr\u001b[39m::spec()\n",
      "\u001b[31m✖\u001b[39m \u001b[34mrecipes\u001b[39m::\u001b[32mstep()\u001b[39m   masks \u001b[34mstats\u001b[39m::step()\n",
      "\u001b[34m•\u001b[39m Learn how to get started at \u001b[32mhttps://www.tidymodels.org/start/\u001b[39m\n",
      "\n"
     ]
    }
   ],
   "source": [
    "library(tidyverse)\n",
    "library(repr)\n",
    "library(tidymodels)\n",
    "options(repr.matrix.max.rows = 6)"
   ]
  },
  {
   "cell_type": "markdown",
   "id": "304e04df-2202-4c13-b1f3-57a83da68ca0",
   "metadata": {},
   "source": [
    "### Preliminary exploratory data analysis\n",
    "\n",
    "##### Downloading the data, cleaning the table"
   ]
  },
  {
   "cell_type": "code",
   "execution_count": 2,
   "id": "9485b818-23a5-4e78-a08a-10b5c98530df",
   "metadata": {},
   "outputs": [
    {
     "name": "stderr",
     "output_type": "stream",
     "text": [
      "Warning message in download.file(\"https://archive.ics.uci.edu/ml/machine-learning-databases/heart-disease/processed.hungarian.data\", :\n",
      "“URL https://archive.ics.uci.edu/ml/machine-learning-databases/heart-disease/processed.hungarian.data: cannot open destfile 'data/project_.csv', reason 'No such file or directory'”\n",
      "Warning message in download.file(\"https://archive.ics.uci.edu/ml/machine-learning-databases/heart-disease/processed.hungarian.data\", :\n",
      "“download had nonzero exit status”\n"
     ]
    },
    {
     "ename": "ERROR",
     "evalue": "Error: 'data/project_.csv' does not exist in current working directory ('/home/jovyan/DSCI-100-006-21').\n",
     "output_type": "error",
     "traceback": [
      "Error: 'data/project_.csv' does not exist in current working directory ('/home/jovyan/DSCI-100-006-21').\nTraceback:\n",
      "1. read_csv(\"data/project_.csv\", col_names = FALSE)",
      "2. vroom::vroom(file, delim = \",\", col_names = col_names, col_types = col_types, \n .     col_select = {\n .         {\n .             col_select\n .         }\n .     }, id = id, .name_repair = name_repair, skip = skip, n_max = n_max, \n .     na = na, quote = quote, comment = comment, skip_empty_rows = skip_empty_rows, \n .     trim_ws = trim_ws, escape_double = TRUE, escape_backslash = FALSE, \n .     locale = locale, guess_max = guess_max, show_col_types = show_col_types, \n .     progress = progress, altrep = lazy, num_threads = num_threads)",
      "3. vroom_(file, delim = delim %||% col_types$delim, col_names = col_names, \n .     col_types = col_types, id = id, skip = skip, col_select = col_select, \n .     name_repair = .name_repair, na = na, quote = quote, trim_ws = trim_ws, \n .     escape_double = escape_double, escape_backslash = escape_backslash, \n .     comment = comment, skip_empty_rows = skip_empty_rows, locale = locale, \n .     guess_max = guess_max, n_max = n_max, altrep = vroom_altrep(altrep), \n .     num_threads = num_threads, progress = progress)",
      "4. (function (path, write = FALSE) \n . {\n .     if (is.raw(path)) {\n .         return(rawConnection(path, \"rb\"))\n .     }\n .     if (!is.character(path)) {\n .         return(path)\n .     }\n .     if (is_url(path)) {\n .         if (requireNamespace(\"curl\", quietly = TRUE)) {\n .             con <- curl::curl(path)\n .         }\n .         else {\n .             rlang::inform(\"`curl` package not installed, falling back to using `url()`\")\n .             con <- url(path)\n .         }\n .         ext <- tolower(tools::file_ext(path))\n .         return(switch(ext, zip = , bz2 = , xz = {\n .             close(con)\n .             stop(\"Reading from remote `\", ext, \"` compressed files is not supported,\\n\", \n .                 \"  download the files locally first.\", call. = FALSE)\n .         }, gz = gzcon(con), con))\n .     }\n .     p <- split_path_ext(basename(path))\n .     if (write) {\n .         path <- normalizePath(path, mustWork = FALSE)\n .     }\n .     else {\n .         path <- check_path(path)\n .     }\n .     if (rlang::is_installed(\"archive\")) {\n .         formats <- archive_formats(p$extension)\n .         extension <- p$extension\n .         while (is.null(formats) && nzchar(extension)) {\n .             extension <- split_path_ext(extension)$extension\n .             formats <- archive_formats(extension)\n .         }\n .         if (!is.null(formats)) {\n .             p$extension <- extension\n .             if (write) {\n .                 if (is.null(formats[[1]])) {\n .                   return(archive::file_write(path, filter = formats[[2]]))\n .                 }\n .                 return(archive::archive_write(path, p$path, format = formats[[1]], \n .                   filter = formats[[2]]))\n .             }\n .             if (is.null(formats[[1]])) {\n .                 return(archive::file_read(path, filter = formats[[2]]))\n .             }\n .             return(archive::archive_read(path, format = formats[[1]], \n .                 filter = formats[[2]]))\n .         }\n .     }\n .     if (!write) {\n .         compression <- detect_compression(path)\n .     }\n .     else {\n .         compression <- NA\n .     }\n .     if (is.na(compression)) {\n .         compression <- tools::file_ext(path)\n .     }\n .     if (write && compression == \"zip\") {\n .         stop(\"Can only read from, not write to, .zip\", call. = FALSE)\n .     }\n .     switch(compression, gz = gzfile(path, \"\"), bz2 = bzfile(path, \n .         \"\"), xz = xzfile(path, \"\"), zip = zipfile(path, \"\"), \n .         if (!has_trailing_newline(path)) {\n .             file(path)\n .         } else {\n .             path\n .         })\n . })(\"data/project_.csv\")",
      "5. check_path(path)",
      "6. stop(\"'\", path, \"' does not exist\", if (!is_absolute_path(path)) {\n .     paste0(\" in current working directory ('\", getwd(), \"')\")\n . }, \".\", call. = FALSE)"
     ]
    }
   ],
   "source": [
    "# Downloading the data, cleaning the table\n",
    "download.file(\"https://archive.ics.uci.edu/ml/machine-learning-databases/heart-disease/processed.hungarian.data\", \"data/project_.csv\")\n",
    "heart_disease_hungarian <- read_csv(\"data/project_.csv\", col_names = FALSE)\n",
    "colnames(heart_disease_hungarian) <- c(\"age\", \"sex\", \"chest_pain\", \"resting_blood_pressure\", \"cholesterol\",\n",
    "                                       \"fasting_blood_sugar\", \"resting_electrocardiographic_results\", \"maximum_heart_rate_achieved\", \n",
    "                                       \"exercise_induced_angina\", \"ST_depression\",\n",
    "                                       \"slope_of_peak_exercise_ST_segment\",\n",
    "                                       \"number_of_major_vessels\", \"thalassemia\", \"heart_disease_cases\") \n",
    "\n",
    "heart_disease_hungarian <- heart_disease_hungarian |>\n",
    "            select(age, sex, chest_pain, resting_blood_pressure, fasting_blood_sugar,\n",
    "                   resting_electrocardiographic_results, heart_disease_cases) |>\n",
    "             mutate(resting_blood_pressure = as.numeric(resting_blood_pressure)) |>\n",
    "             mutate(sex = as_factor(sex)) |>\n",
    "             mutate(chest_pain = as_factor(chest_pain)) |>\n",
    "             mutate(fasting_blood_sugar = as_factor(fasting_blood_sugar)) |>\n",
    "             mutate(resting_electrocardiographic_results = as_factor(resting_electrocardiographic_results))\n",
    "             \n",
    "\n",
    "\n",
    "heart_disease_hungarian_summarize <- heart_disease_hungarian |>\n",
    "            group_by(age,sex,chest_pain) |>\n",
    "            summarize(heart_disease_cases = sum(heart_disease_cases, na.rm = TRUE)) |>\n",
    "            arrange(heart_disease_cases)\n",
    "\n",
    "\n",
    "heart_disease_hungarian\n",
    "heart_disease_hungarian_summarize\n",
    "tail(heart_disease_hungarian_summarize, 5)"
   ]
  },
  {
   "cell_type": "markdown",
   "id": "dab60e49-ea5e-4145-8c37-537131fa09c1",
   "metadata": {},
   "source": [
    "##### Variable Explenation:\n",
    "- Sex: 1 = Male, 2 = Female\n",
    "- Chest pain: 1 = Typical angina, 2 = Atypical agina, 3 = Non-angina pain, 4 = Asymptomatic\n",
    "- Resting blood pressure: mmHg\n",
    "- Fasting blood sugar, 1 = >120 mg/dl, 2 = <=120 mg/dl\n",
    "- Resting electrocardiographic result: 0 = Normal, 1 = Having ST-Twave abnormality, 2 = Showing probable or definite left ventricular hypertrophy\n",
    "\n",
    "##### Summary table \n",
    "Organizing our data table, we can make an inference that heart disease cases are mostly found in older males around the age of 45-55. From our table, we can observe that the top five most frequent cases of heart disease with the same sex, age, and chest pain, are all of the male sex of ages 46 to 52.\n",
    "\n",
    "##### Training and testing\n",
    "We are using 75% of our data to split into training and testing data to predict heart disease cases."
   ]
  },
  {
   "cell_type": "code",
   "execution_count": null,
   "id": "140dacec-2471-44ac-9528-ba5e8a626529",
   "metadata": {},
   "outputs": [],
   "source": [
    "set.seed(27)\n",
    "hd_split <- initial_split(heart_disease_hungarian, prop = 0.75, strata = heart_disease_cases)\n",
    "hd_train <- training(hd_split)   \n",
    "hd_test <- testing(hd_split)\n",
    "\n",
    "hd_train\n",
    "hd_test"
   ]
  },
  {
   "cell_type": "code",
   "execution_count": null,
   "id": "6d31f615-67e1-437a-acdc-5580269b76f2",
   "metadata": {},
   "outputs": [],
   "source": [
    "# your code here\n",
    "heart_disease_plot <- hd_train |>\n",
    "    ggplot(aes(x = age, y = resting_blood_pressure, color = heart_disease_cases)) + \n",
    "        geom_point() +\n",
    "        labs(x = \"Age\", y = \"Resting blood pressure\", color = \"Heart disease cases\", title = \"Association between age, Resting blood sugar and heart disease\")\n",
    "\n",
    "heart_disease_plot <- heart_disease_plot + \n",
    "       scale_fill_brewer(palette = \"YlOrRd\")\n",
    "heart_disease_plot"
   ]
  },
  {
   "cell_type": "markdown",
   "id": "715fa90c-a52a-496b-a7a0-2364581b6258",
   "metadata": {
    "tags": []
   },
   "source": [
    "##### Explanation of Data Graph:\n",
    "From reading the graph there seems to be no real relationship between the variables blood pressure and heart disease. Patients diagnosed with heart disease are predominantly found within the age range of 45-60 hence, we can establish the connection between age and heart disease cases.\n",
    "\n",
    "### Methods:\n",
    "We will begin our data analysis cleaning and wrangling the dataset we have chosen. We aim to find our answer by utilizing scatterplots for the predictors we have chosen for the scope of this project. Forementioned, we have chosen eight of the fourteen attributes of the data set: age, sex, resting blood pressure, resting electrocardiographic results, fasting blood sugar, chest pain, and heart disease. Studies support that our chosen predictors have associations with cardiovascular heart disease but the extent of each is still unknown. \n",
    "\n",
    "### Expected Outcomes and Significance:\n",
    "\n",
    "#### What do we expect to find: \n",
    "We expect to find associations between heart disease with our chosen predictors. Based on our findings we will be able to identify the most telltale variable for heart disease as well as the relationship predictors may have with one another. We can expect heart disease risk and diagnosis to increase with age, but the same could not be said for the other predictors.\n",
    "\n",
    "#### What impact do such findings have:\n",
    "Our findings will contribute to identifying portions of the population at higher risk for heart disease based on our predictor variables. This research is done to advocate for health and prevention and to contribute to the current knowledge we have on heart disease.\n",
    "\n",
    "#### What future questions could this lead to: \n",
    "Our project leads to many future questions: How can we prevent it within the population, especially if the community doesn't necessarily have the resources for prevention? Also, what other variables other than the ones we have tested could lead to being predisposed to heart disease? Lastly, how much control do patients have over their risk for heart disease and how can they prevent heart disease with this new information?\n",
    "\n",
    "#### References\n",
    "- Ashley, E. A., Raxwal, V., & Froelicher, V. (2001). An evidence-based review of the resting electrocardiogram as a screening technique for heart disease. Progress in Cardiovascular Diseases, 44(1), 55–67. https://doi.org/10.1053/pcad.2001.24683\n",
    "- He, K., Chen, X., Shi, Z., Shi, S., Tian, Q., Hu, X., Song, R., Bai, K., Shi, W., Wang, J., Li, H., Ding, J., Geng, S., & Sheng, X. (2022). Relationship of resting heart rate and blood pressure with all-cause and cardiovascular disease mortality. Public Health, 208, 80–88. https://doi.org/10.1016/j.puhe.2022.03.020 \n",
    "- Maas, A. H. E. M., & Appelman, Y. E. A. (2010). Gender differences in coronary heart disease. Netherlands Heart Journal, 18(12), 598–603. https://doi.org/10.1007/s12471-010-0841-y\n",
    "- Moran, A. E., Tzong, K. Y., Forouzanfar, M. H., Roth, G. A., Mensah, G. A., Ezzati, M., Murray, C. J. L., & Naghavi, M. (2014). Variations in ischemic heart disease burden by age, country, and income: the global burden of diseases, injuries, and risk factors 2010 study. Global Heart, 9(1), 91. https://doi.org/10.1016/j.gheart.2013.12.007 \n",
    "- Park, C., Guallar, E., Linton, J. A., Lee, D.-C., Jang, Y., Son, D. K., Han, E.-J., Baek, S. J., Yun, Y. D., Jee, S. H., & Samet, J. M. (2013). Fasting glucose level and the risk of incident atherosclerotic cardiovascular diseases. Diabetes Care, 36(7), 1988–1993. https://doi.org/10.2337/dc12-1577 "
   ]
  },
  {
   "cell_type": "code",
   "execution_count": null,
   "id": "ffcb5df0-9f7a-4d8c-801d-7f8e250ba0e4",
   "metadata": {},
   "outputs": [],
   "source": []
  },
  {
   "cell_type": "code",
   "execution_count": null,
   "id": "8929d179-79c2-4863-8d84-76c7549b959c",
   "metadata": {},
   "outputs": [],
   "source": []
  },
  {
   "cell_type": "code",
   "execution_count": null,
   "id": "1bbbf594-ed23-4b30-91bb-609a26624301",
   "metadata": {},
   "outputs": [],
   "source": []
  }
 ],
 "metadata": {
  "kernelspec": {
   "display_name": "R",
   "language": "R",
   "name": "ir"
  },
  "language_info": {
   "codemirror_mode": "r",
   "file_extension": ".r",
   "mimetype": "text/x-r-source",
   "name": "R",
   "pygments_lexer": "r",
   "version": "4.1.3"
  }
 },
 "nbformat": 4,
 "nbformat_minor": 5
}
